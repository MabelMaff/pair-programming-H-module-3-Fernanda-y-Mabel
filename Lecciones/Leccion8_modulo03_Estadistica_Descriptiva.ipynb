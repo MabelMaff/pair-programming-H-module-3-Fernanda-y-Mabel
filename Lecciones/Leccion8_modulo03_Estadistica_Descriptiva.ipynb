{
 "cells": [
  {
   "cell_type": "markdown",
   "metadata": {},
   "source": [
    "# 📊 **Pair Programming: Estadística Descriptiva** 📊\n",
    "\n",
    "## **Ejercicios de Estadística Descriptiva**\n",
    "\n",
    "En este caso usaremos el mismo DataFrame que hemos estado usando en los últimos pairs. El ejercicio que os planteamos es:\n",
    "\n",
    "**Eres un analista de datos que trabaja para una organización internacional que se enfoca en el desarrollo y el bienestar de los países. Tu objetivo es realizar un análisis inicial de estadísticas descriptivas sobre varios países utilizando el conjunto de datos proporcionado.**\n",
    "\n",
    "### **Objetivo:**\n",
    "Realizar un análisis de estadísticas descriptivas para comprender mejor la situación de los países en términos de diversos indicadores."
   ]
  },
  {
   "cell_type": "markdown",
   "metadata": {},
   "source": [
    "_ _ _"
   ]
  },
  {
   "cell_type": "markdown",
   "metadata": {},
   "source": [
    "### **Instrucciones:**"
   ]
  },
  {
   "cell_type": "markdown",
   "metadata": {},
   "source": [
    "1. **Calcula las siguientes estadísticas descriptivas para las variables numéricas:**"
   ]
  },
  {
   "cell_type": "code",
   "execution_count": 1,
   "metadata": {},
   "outputs": [],
   "source": [
    "import pandas as pd\n",
    "import seaborn as sns\n",
    "import matplotlib as ptl\n",
    "from scipy.stats import shapiro, kstest\n",
    "import warnings\n",
    "\n",
    "warnings.filterwarnings(\"ignore\")"
   ]
  },
  {
   "cell_type": "markdown",
   "metadata": {},
   "source": [
    "- Media"
   ]
  },
  {
   "cell_type": "code",
   "execution_count": 2,
   "metadata": {},
   "outputs": [
    {
     "data": {
      "text/plain": [
       "agriculturalland                      39.117553\n",
       "birthrate                             20.214974\n",
       "callingcode                          360.546392\n",
       "cpichange                              6.722346\n",
       "fertilityrate                          2.698138\n",
       "forestedarea                          32.015426\n",
       "gasolineprice                          1.002457\n",
       "grossprimaryeducationenrollment      102.470213\n",
       "grosstertiaryeducationenrollment      37.963388\n",
       "infantmortality                       21.332804\n",
       "lifeexpectancy                        72.279679\n",
       "maternalmortalityratio               160.392265\n",
       "minimumwage                            2.194133\n",
       "outofpockethealthexpenditure          32.637234\n",
       "physiciansperthousand                  1.839840\n",
       "populationlaborforceparticipation     62.738068\n",
       "taxrevenue                            16.573964\n",
       "totaltaxrate                          40.822404\n",
       "unemploymentrate                       6.886364\n",
       "dtype: float64"
      ]
     },
     "execution_count": 2,
     "metadata": {},
     "output_type": "execute_result"
    }
   ],
   "source": [
    "df = pd.read_csv('World-Data-Unidas-Limpio.csv')\n",
    "variables_numericas = df.select_dtypes(float, int)\n",
    "media = variables_numericas.mean()\n",
    "media"
   ]
  },
  {
   "cell_type": "markdown",
   "metadata": {},
   "source": [
    "- Mediana"
   ]
  },
  {
   "cell_type": "code",
   "execution_count": 3,
   "metadata": {},
   "outputs": [
    {
     "data": {
      "text/plain": [
       "agriculturalland                      39.600\n",
       "birthrate                             17.950\n",
       "callingcode                          255.500\n",
       "cpichange                              2.300\n",
       "fertilityrate                          2.245\n",
       "forestedarea                          32.000\n",
       "gasolineprice                          0.980\n",
       "grossprimaryeducationenrollment      102.550\n",
       "grosstertiaryeducationenrollment      31.200\n",
       "infantmortality                       14.000\n",
       "lifeexpectancy                        73.200\n",
       "maternalmortalityratio                53.000\n",
       "minimumwage                            1.045\n",
       "outofpockethealthexpenditure          30.700\n",
       "physiciansperthousand                  1.460\n",
       "populationlaborforceparticipation     62.450\n",
       "taxrevenue                            16.300\n",
       "totaltaxrate                          37.200\n",
       "unemploymentrate                       5.360\n",
       "dtype: float64"
      ]
     },
     "execution_count": 3,
     "metadata": {},
     "output_type": "execute_result"
    }
   ],
   "source": [
    "mediana = variables_numericas.median()\n",
    "mediana"
   ]
  },
  {
   "cell_type": "markdown",
   "metadata": {},
   "source": [
    "- Desviación estándar"
   ]
  },
  {
   "cell_type": "code",
   "execution_count": 4,
   "metadata": {},
   "outputs": [
    {
     "data": {
      "text/plain": [
       "agriculturalland                      21.783052\n",
       "birthrate                              9.945774\n",
       "callingcode                          323.236419\n",
       "cpichange                             24.450414\n",
       "fertilityrate                          1.282267\n",
       "forestedarea                          23.791331\n",
       "gasolineprice                          0.368858\n",
       "grossprimaryeducationenrollment       13.151607\n",
       "grosstertiaryeducationenrollment      29.261022\n",
       "infantmortality                       19.548058\n",
       "lifeexpectancy                         7.483661\n",
       "maternalmortalityratio               233.502024\n",
       "minimumwage                            2.970796\n",
       "outofpockethealthexpenditure          19.172697\n",
       "physiciansperthousand                  1.684261\n",
       "populationlaborforceparticipation     10.502907\n",
       "taxrevenue                             6.961632\n",
       "totaltaxrate                          20.557662\n",
       "unemploymentrate                       5.079216\n",
       "dtype: float64"
      ]
     },
     "execution_count": 4,
     "metadata": {},
     "output_type": "execute_result"
    }
   ],
   "source": [
    "desv_estandar = variables_numericas.std()\n",
    "desv_estandar"
   ]
  },
  {
   "cell_type": "markdown",
   "metadata": {},
   "source": [
    "- Mínimo"
   ]
  },
  {
   "cell_type": "code",
   "execution_count": 5,
   "metadata": {},
   "outputs": [
    {
     "data": {
      "text/plain": [
       "agriculturalland                      0.60\n",
       "birthrate                             5.90\n",
       "callingcode                           1.00\n",
       "cpichange                            -4.30\n",
       "fertilityrate                         0.98\n",
       "forestedarea                          0.00\n",
       "gasolineprice                         0.00\n",
       "grossprimaryeducationenrollment      23.40\n",
       "grosstertiaryeducationenrollment      0.80\n",
       "infantmortality                       1.40\n",
       "lifeexpectancy                       52.80\n",
       "maternalmortalityratio                2.00\n",
       "minimumwage                           0.01\n",
       "outofpockethealthexpenditure          0.20\n",
       "physiciansperthousand                 0.01\n",
       "populationlaborforceparticipation    38.00\n",
       "taxrevenue                            0.00\n",
       "totaltaxrate                          8.00\n",
       "unemploymentrate                      0.09\n",
       "dtype: float64"
      ]
     },
     "execution_count": 5,
     "metadata": {},
     "output_type": "execute_result"
    }
   ],
   "source": [
    "minimo = variables_numericas.min()\n",
    "minimo"
   ]
  },
  {
   "cell_type": "markdown",
   "metadata": {},
   "source": [
    "- Máximo"
   ]
  },
  {
   "cell_type": "code",
   "execution_count": 6,
   "metadata": {},
   "outputs": [
    {
     "data": {
      "text/plain": [
       "agriculturalland                      0.60\n",
       "birthrate                             5.90\n",
       "callingcode                           1.00\n",
       "cpichange                            -4.30\n",
       "fertilityrate                         0.98\n",
       "forestedarea                          0.00\n",
       "gasolineprice                         0.00\n",
       "grossprimaryeducationenrollment      23.40\n",
       "grosstertiaryeducationenrollment      0.80\n",
       "infantmortality                       1.40\n",
       "lifeexpectancy                       52.80\n",
       "maternalmortalityratio                2.00\n",
       "minimumwage                           0.01\n",
       "outofpockethealthexpenditure          0.20\n",
       "physiciansperthousand                 0.01\n",
       "populationlaborforceparticipation    38.00\n",
       "taxrevenue                            0.00\n",
       "totaltaxrate                          8.00\n",
       "unemploymentrate                      0.09\n",
       "dtype: float64"
      ]
     },
     "execution_count": 6,
     "metadata": {},
     "output_type": "execute_result"
    }
   ],
   "source": [
    "maximo = variables_numericas.min()\n",
    "maximo"
   ]
  },
  {
   "cell_type": "markdown",
   "metadata": {},
   "source": [
    "2. **Identifica el país con la mayor densidad de población y el país con la menor población en el conjunto de datos.**"
   ]
  },
  {
   "cell_type": "code",
   "execution_count": 7,
   "metadata": {},
   "outputs": [
    {
     "data": {
      "text/plain": [
       "Index(['unnamed0', 'country', 'density\\r\\np', 'abbreviation',\n",
       "       'agriculturalland', 'landarea', 'armedforcessize', 'birthrate',\n",
       "       'callingcode', 'capitalmajorcity', 'co2-emissions', 'cpi', 'cpichange',\n",
       "       'currency-code', 'fertilityrate', 'forestedarea', 'gasolineprice',\n",
       "       'gdp', 'grossprimaryeducationenrollment',\n",
       "       'grosstertiaryeducationenrollment', 'infantmortality', 'largestcity',\n",
       "       'lifeexpectancy', 'maternalmortalityratio', 'minimumwage',\n",
       "       'officiallanguage', 'outofpockethealthexpenditure',\n",
       "       'physiciansperthousand', 'population',\n",
       "       'populationlaborforceparticipation', 'taxrevenue', 'totaltaxrate',\n",
       "       'unemploymentrate', 'urban_population', 'latitud', 'longitud'],\n",
       "      dtype='object')"
      ]
     },
     "execution_count": 7,
     "metadata": {},
     "output_type": "execute_result"
    }
   ],
   "source": [
    "df.columns"
   ]
  },
  {
   "cell_type": "code",
   "execution_count": 8,
   "metadata": {},
   "outputs": [],
   "source": [
    "df.columns = df.columns.str.strip().str.replace(r'\\r\\n', '').str.replace(r'\\n', '')"
   ]
  },
  {
   "cell_type": "code",
   "execution_count": 11,
   "metadata": {},
   "outputs": [
    {
     "data": {
      "text/plain": [
       "Index(['unnamed0', 'country', 'densityp', 'abbreviation', 'agriculturalland',\n",
       "       'landarea', 'armedforcessize', 'birthrate', 'callingcode',\n",
       "       'capitalmajorcity', 'co2-emissions', 'cpi', 'cpichange',\n",
       "       'currency-code', 'fertilityrate', 'forestedarea', 'gasolineprice',\n",
       "       'gdp', 'grossprimaryeducationenrollment',\n",
       "       'grosstertiaryeducationenrollment', 'infantmortality', 'largestcity',\n",
       "       'lifeexpectancy', 'maternalmortalityratio', 'minimumwage',\n",
       "       'officiallanguage', 'outofpockethealthexpenditure',\n",
       "       'physiciansperthousand', 'population',\n",
       "       'populationlaborforceparticipation', 'taxrevenue', 'totaltaxrate',\n",
       "       'unemploymentrate', 'urban_population', 'latitud', 'longitud'],\n",
       "      dtype='object')"
      ]
     },
     "execution_count": 11,
     "metadata": {},
     "output_type": "execute_result"
    }
   ],
   "source": [
    "df.columns"
   ]
  },
  {
   "cell_type": "code",
   "execution_count": 13,
   "metadata": {},
   "outputs": [
    {
     "data": {
      "text/html": [
       "<div>\n",
       "<style scoped>\n",
       "    .dataframe tbody tr th:only-of-type {\n",
       "        vertical-align: middle;\n",
       "    }\n",
       "\n",
       "    .dataframe tbody tr th {\n",
       "        vertical-align: top;\n",
       "    }\n",
       "\n",
       "    .dataframe thead th {\n",
       "        text-align: right;\n",
       "    }\n",
       "</style>\n",
       "<table border=\"1\" class=\"dataframe\">\n",
       "  <thead>\n",
       "    <tr style=\"text-align: right;\">\n",
       "      <th></th>\n",
       "      <th>country</th>\n",
       "      <th>densityp</th>\n",
       "    </tr>\n",
       "  </thead>\n",
       "  <tbody>\n",
       "    <tr>\n",
       "      <th>0</th>\n",
       "      <td>Malaysia</td>\n",
       "      <td>99</td>\n",
       "    </tr>\n",
       "  </tbody>\n",
       "</table>\n",
       "</div>"
      ],
      "text/plain": [
       "    country densityp\n",
       "0  Malaysia       99"
      ]
     },
     "execution_count": 13,
     "metadata": {},
     "output_type": "execute_result"
    }
   ],
   "source": [
    "densidad_maxima = df.groupby(\"country\")[\"densityp\"].max().sort_values(ascending=False).reset_index()\n",
    "densidad_maxima.head(1)"
   ]
  },
  {
   "cell_type": "code",
   "execution_count": 14,
   "metadata": {},
   "outputs": [
    {
     "data": {
      "text/html": [
       "<div>\n",
       "<style scoped>\n",
       "    .dataframe tbody tr th:only-of-type {\n",
       "        vertical-align: middle;\n",
       "    }\n",
       "\n",
       "    .dataframe tbody tr th {\n",
       "        vertical-align: top;\n",
       "    }\n",
       "\n",
       "    .dataframe thead th {\n",
       "        text-align: right;\n",
       "    }\n",
       "</style>\n",
       "<table border=\"1\" class=\"dataframe\">\n",
       "  <thead>\n",
       "    <tr style=\"text-align: right;\">\n",
       "      <th></th>\n",
       "      <th>country</th>\n",
       "      <th>densityp</th>\n",
       "    </tr>\n",
       "  </thead>\n",
       "  <tbody>\n",
       "    <tr>\n",
       "      <th>194</th>\n",
       "      <td>Bangladesh</td>\n",
       "      <td>1,265</td>\n",
       "    </tr>\n",
       "  </tbody>\n",
       "</table>\n",
       "</div>"
      ],
      "text/plain": [
       "        country densityp\n",
       "194  Bangladesh    1,265"
      ]
     },
     "execution_count": 14,
     "metadata": {},
     "output_type": "execute_result"
    }
   ],
   "source": [
    "densidad_minima = df.groupby(\"country\")[\"densityp\"].min().sort_values(ascending=False).reset_index()\n",
    "densidad_minima.tail(1)"
   ]
  },
  {
   "cell_type": "markdown",
   "metadata": {},
   "source": [
    "3. **Calcula la tasa promedio de natalidad (`birth_rate`) para todos los países en el conjunto de datos.**"
   ]
  },
  {
   "cell_type": "code",
   "execution_count": 16,
   "metadata": {},
   "outputs": [
    {
     "data": {
      "text/plain": [
       "20.21497354497354"
      ]
     },
     "execution_count": 16,
     "metadata": {},
     "output_type": "execute_result"
    }
   ],
   "source": [
    "tasa_natalidad = df['birthrate'].mean()\n",
    "tasa_natalidad"
   ]
  },
  {
   "cell_type": "markdown",
   "metadata": {},
   "source": [
    "4. **Realiza un análisis de la mortalidad infantil (`infant_mortality`) y clasifica los países en tres categorías:**"
   ]
  },
  {
   "cell_type": "markdown",
   "metadata": {},
   "source": [
    "- Baja mortalidad infantil"
   ]
  },
  {
   "cell_type": "markdown",
   "metadata": {},
   "source": [
    "- Moderada mortalidad infantil\n",
    "   "
   ]
  },
  {
   "cell_type": "markdown",
   "metadata": {},
   "source": [
    "- Alta mortalidad infantil"
   ]
  },
  {
   "cell_type": "code",
   "execution_count": 28,
   "metadata": {},
   "outputs": [
    {
     "name": "stdout",
     "output_type": "stream",
     "text": [
      "El valor máximo de la mortalidad infantil es 84.5\n",
      "\n",
      "El valor mínimo de la mortalidad infantil es 1.4\n"
     ]
    },
    {
     "data": {
      "text/html": [
       "<div>\n",
       "<style scoped>\n",
       "    .dataframe tbody tr th:only-of-type {\n",
       "        vertical-align: middle;\n",
       "    }\n",
       "\n",
       "    .dataframe tbody tr th {\n",
       "        vertical-align: top;\n",
       "    }\n",
       "\n",
       "    .dataframe thead th {\n",
       "        text-align: right;\n",
       "    }\n",
       "</style>\n",
       "<table border=\"1\" class=\"dataframe\">\n",
       "  <thead>\n",
       "    <tr style=\"text-align: right;\">\n",
       "      <th></th>\n",
       "      <th>country</th>\n",
       "      <th>infantmortality</th>\n",
       "      <th>mortalityclassification</th>\n",
       "    </tr>\n",
       "  </thead>\n",
       "  <tbody>\n",
       "    <tr>\n",
       "      <th>0</th>\n",
       "      <td>Afghanistan</td>\n",
       "      <td>47.9</td>\n",
       "      <td>Alta</td>\n",
       "    </tr>\n",
       "    <tr>\n",
       "      <th>1</th>\n",
       "      <td>Albania</td>\n",
       "      <td>7.8</td>\n",
       "      <td>Baja</td>\n",
       "    </tr>\n",
       "    <tr>\n",
       "      <th>2</th>\n",
       "      <td>Algeria</td>\n",
       "      <td>20.1</td>\n",
       "      <td>Moderada</td>\n",
       "    </tr>\n",
       "    <tr>\n",
       "      <th>3</th>\n",
       "      <td>Andorra</td>\n",
       "      <td>2.7</td>\n",
       "      <td>Baja</td>\n",
       "    </tr>\n",
       "    <tr>\n",
       "      <th>4</th>\n",
       "      <td>Angola</td>\n",
       "      <td>51.6</td>\n",
       "      <td>Alta</td>\n",
       "    </tr>\n",
       "    <tr>\n",
       "      <th>...</th>\n",
       "      <td>...</td>\n",
       "      <td>...</td>\n",
       "      <td>...</td>\n",
       "    </tr>\n",
       "    <tr>\n",
       "      <th>190</th>\n",
       "      <td>Venezuela</td>\n",
       "      <td>21.4</td>\n",
       "      <td>Moderada</td>\n",
       "    </tr>\n",
       "    <tr>\n",
       "      <th>191</th>\n",
       "      <td>Vietnam</td>\n",
       "      <td>16.5</td>\n",
       "      <td>Moderada</td>\n",
       "    </tr>\n",
       "    <tr>\n",
       "      <th>192</th>\n",
       "      <td>Yemen</td>\n",
       "      <td>42.9</td>\n",
       "      <td>Alta</td>\n",
       "    </tr>\n",
       "    <tr>\n",
       "      <th>193</th>\n",
       "      <td>Zambia</td>\n",
       "      <td>40.4</td>\n",
       "      <td>Alta</td>\n",
       "    </tr>\n",
       "    <tr>\n",
       "      <th>194</th>\n",
       "      <td>Zimbabwe</td>\n",
       "      <td>33.9</td>\n",
       "      <td>Alta</td>\n",
       "    </tr>\n",
       "  </tbody>\n",
       "</table>\n",
       "<p>195 rows × 3 columns</p>\n",
       "</div>"
      ],
      "text/plain": [
       "         country  infantmortality mortalityclassification\n",
       "0    Afghanistan             47.9                    Alta\n",
       "1        Albania              7.8                    Baja\n",
       "2        Algeria             20.1                Moderada\n",
       "3        Andorra              2.7                    Baja\n",
       "4         Angola             51.6                    Alta\n",
       "..           ...              ...                     ...\n",
       "190    Venezuela             21.4                Moderada\n",
       "191      Vietnam             16.5                Moderada\n",
       "192        Yemen             42.9                    Alta\n",
       "193       Zambia             40.4                    Alta\n",
       "194     Zimbabwe             33.9                    Alta\n",
       "\n",
       "[195 rows x 3 columns]"
      ]
     },
     "execution_count": 28,
     "metadata": {},
     "output_type": "execute_result"
    }
   ],
   "source": [
    "# Identificamos los valores máximos y mínimos de mortalidad infantil para armar la función\n",
    "print(f\"El valor máximo de la mortalidad infantil es {df['infantmortality'].max()}\")\n",
    "print(f\"\\nEl valor mínimo de la mortalidad infantil es {df['infantmortality'].min()}\")\n",
    "\n",
    "# Definimos la función para clasificar la mortalidad infantil\n",
    "def analisis_mortalidad(datos):\n",
    "    if datos < 15:\n",
    "        return \"Baja\"\n",
    "    elif 15 <= datos <= 30:\n",
    "        return \"Moderada\"\n",
    "    else:\n",
    "        return \"Alta\"\n",
    "\n",
    "# Aplicamos la función a la columna 'infant_mortality'\n",
    "df[\"mortalityclassification\"] = df[\"infantmortality\"].apply(analisis_mortalidad)\n",
    "\n",
    "# Mostramos las columnas 'country', 'infant_mortality' y 'mortality_classification'\n",
    "df[[\"country\", \"infantmortality\", \"mortalityclassification\"]]\n"
   ]
  },
  {
   "cell_type": "markdown",
   "metadata": {},
   "source": [
    "5. **Calcula la correlación entre las variables de `fertility_rate` y `life_expectancy`.**"
   ]
  },
  {
   "cell_type": "markdown",
   "metadata": {},
   "source": [
    "- Interpreta la relación entre estas dos variables."
   ]
  },
  {
   "cell_type": "code",
   "execution_count": null,
   "metadata": {},
   "outputs": [],
   "source": []
  },
  {
   "cell_type": "markdown",
   "metadata": {},
   "source": [
    "- ¿Qué tipo de correlación hay?              \n",
    "   "
   ]
  },
  {
   "cell_type": "code",
   "execution_count": null,
   "metadata": {},
   "outputs": [],
   "source": []
  },
  {
   "cell_type": "markdown",
   "metadata": {},
   "source": [
    "- Explica la razón de esta relación."
   ]
  },
  {
   "cell_type": "code",
   "execution_count": null,
   "metadata": {},
   "outputs": [],
   "source": []
  },
  {
   "cell_type": "markdown",
   "metadata": {},
   "source": [
    "### **Bonus:**\n",
    "\n",
    "1. **Visualiza la distribución de la variable `cpi` utilizando un histograma y comenta sobre la distribución de los índices de percepción de corrupción.**"
   ]
  },
  {
   "cell_type": "code",
   "execution_count": null,
   "metadata": {},
   "outputs": [],
   "source": []
  },
  {
   "cell_type": "markdown",
   "metadata": {},
   "source": [
    "2. **Encuentra el país con la mayor diferencia entre el `gdp` (Producto Interno Bruto) y el `co2-emissions` (emisiones de dióxido de carbono).**"
   ]
  },
  {
   "cell_type": "code",
   "execution_count": null,
   "metadata": {},
   "outputs": [],
   "source": []
  },
  {
   "cell_type": "markdown",
   "metadata": {},
   "source": [
    "3. **Calcula el porcentaje promedio de personas que participan en la fuerza laboral (`population_labor_force_participation`) para todos los países.**"
   ]
  },
  {
   "cell_type": "code",
   "execution_count": null,
   "metadata": {},
   "outputs": [],
   "source": []
  },
  {
   "cell_type": "markdown",
   "metadata": {},
   "source": [
    "4. **Genera un mapa de calor (heatmap) de la matriz de correlación de todas las variables numéricas y discute las relaciones más destacadas.**"
   ]
  },
  {
   "cell_type": "code",
   "execution_count": null,
   "metadata": {},
   "outputs": [],
   "source": []
  }
 ],
 "metadata": {
  "kernelspec": {
   "display_name": "base",
   "language": "python",
   "name": "python3"
  },
  "language_info": {
   "codemirror_mode": {
    "name": "ipython",
    "version": 3
   },
   "file_extension": ".py",
   "mimetype": "text/x-python",
   "name": "python",
   "nbconvert_exporter": "python",
   "pygments_lexer": "ipython3",
   "version": "3.9.12"
  }
 },
 "nbformat": 4,
 "nbformat_minor": 2
}
