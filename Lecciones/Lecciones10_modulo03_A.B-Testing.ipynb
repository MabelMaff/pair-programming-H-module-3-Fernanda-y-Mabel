{
 "cells": [
  {
   "cell_type": "markdown",
   "metadata": {},
   "source": [
    "# Pair A/B Testing\n",
    "## Ejercicio 1\n",
    "\n",
    "Supongamos que estamos realizando un experimento para determinar si un nuevo diseño de anuncio (test group \"ad\") tiene un impacto significativo en la tasa de conversión en comparación con el diseño de anuncio anterior (test group \"psa\").\n",
    "\n",
    "**Objetivo del ejercicio:** Comparar las tasas de conversión entre los grupos de prueba \"ad\" y \"psa\" para determinar si el nuevo diseño de anuncio es más efectivo en la conversión de usuarios.\n",
    "\n",
    "## Pasos que debemos seguir:\n",
    "\n",
    "1. **Preparación de los datos:**\n",
    "   Asegúrate de que los datos estén limpios y listos para el análisis. Esto incluye la eliminación de datos faltantes y la verificación de la coherencia de los datos."
   ]
  },
  {
   "cell_type": "code",
   "execution_count": 14,
   "metadata": {},
   "outputs": [],
   "source": [
    "import pandas as pd\n",
    "import numpy as np\n",
    "from sklearn.impute import SimpleImputer\n",
    "import seaborn as sns\n",
    "import matplotlib.pyplot as plt\n",
    "from scipy.stats import norm\n",
    "from scipy.stats import chi2_contingency"
   ]
  },
  {
   "cell_type": "code",
   "execution_count": 18,
   "metadata": {},
   "outputs": [],
   "source": [
    "# Ponemos este código para que se vean el máximo de las filas \n",
    "pd.set_option('display.max_rows', None)\n",
    "pd.set_option('display.max_columns', None)"
   ]
  },
  {
   "cell_type": "code",
   "execution_count": 3,
   "metadata": {},
   "outputs": [
    {
     "data": {
      "text/html": [
       "<div>\n",
       "<style scoped>\n",
       "    .dataframe tbody tr th:only-of-type {\n",
       "        vertical-align: middle;\n",
       "    }\n",
       "\n",
       "    .dataframe tbody tr th {\n",
       "        vertical-align: top;\n",
       "    }\n",
       "\n",
       "    .dataframe thead th {\n",
       "        text-align: right;\n",
       "    }\n",
       "</style>\n",
       "<table border=\"1\" class=\"dataframe\">\n",
       "  <thead>\n",
       "    <tr style=\"text-align: right;\">\n",
       "      <th></th>\n",
       "      <th>Unnamed: 0</th>\n",
       "      <th>user id</th>\n",
       "      <th>test group</th>\n",
       "      <th>converted</th>\n",
       "      <th>total ads</th>\n",
       "      <th>most ads day</th>\n",
       "      <th>most ads hour</th>\n",
       "    </tr>\n",
       "  </thead>\n",
       "  <tbody>\n",
       "    <tr>\n",
       "      <th>0</th>\n",
       "      <td>0</td>\n",
       "      <td>1069124</td>\n",
       "      <td>ad</td>\n",
       "      <td>False</td>\n",
       "      <td>130</td>\n",
       "      <td>Monday</td>\n",
       "      <td>20</td>\n",
       "    </tr>\n",
       "    <tr>\n",
       "      <th>1</th>\n",
       "      <td>1</td>\n",
       "      <td>1119715</td>\n",
       "      <td>ad</td>\n",
       "      <td>False</td>\n",
       "      <td>93</td>\n",
       "      <td>Tuesday</td>\n",
       "      <td>22</td>\n",
       "    </tr>\n",
       "    <tr>\n",
       "      <th>2</th>\n",
       "      <td>2</td>\n",
       "      <td>1144181</td>\n",
       "      <td>ad</td>\n",
       "      <td>False</td>\n",
       "      <td>21</td>\n",
       "      <td>Tuesday</td>\n",
       "      <td>18</td>\n",
       "    </tr>\n",
       "    <tr>\n",
       "      <th>3</th>\n",
       "      <td>3</td>\n",
       "      <td>1435133</td>\n",
       "      <td>ad</td>\n",
       "      <td>False</td>\n",
       "      <td>355</td>\n",
       "      <td>Tuesday</td>\n",
       "      <td>10</td>\n",
       "    </tr>\n",
       "    <tr>\n",
       "      <th>4</th>\n",
       "      <td>4</td>\n",
       "      <td>1015700</td>\n",
       "      <td>ad</td>\n",
       "      <td>False</td>\n",
       "      <td>276</td>\n",
       "      <td>Friday</td>\n",
       "      <td>14</td>\n",
       "    </tr>\n",
       "  </tbody>\n",
       "</table>\n",
       "</div>"
      ],
      "text/plain": [
       "   Unnamed: 0  user id test group  converted  total ads most ads day  \\\n",
       "0           0  1069124         ad      False        130       Monday   \n",
       "1           1  1119715         ad      False         93      Tuesday   \n",
       "2           2  1144181         ad      False         21      Tuesday   \n",
       "3           3  1435133         ad      False        355      Tuesday   \n",
       "4           4  1015700         ad      False        276       Friday   \n",
       "\n",
       "   most ads hour  \n",
       "0             20  \n",
       "1             22  \n",
       "2             18  \n",
       "3             10  \n",
       "4             14  "
      ]
     },
     "execution_count": 3,
     "metadata": {},
     "output_type": "execute_result"
    }
   ],
   "source": [
    "df = pd.read_csv('marketing_AB.csv')\n",
    "df.head()"
   ]
  },
  {
   "cell_type": "code",
   "execution_count": 4,
   "metadata": {},
   "outputs": [
    {
     "name": "stdout",
     "output_type": "stream",
     "text": [
      "<class 'pandas.core.frame.DataFrame'>\n",
      "RangeIndex: 588101 entries, 0 to 588100\n",
      "Data columns (total 7 columns):\n",
      " #   Column         Non-Null Count   Dtype \n",
      "---  ------         --------------   ----- \n",
      " 0   Unnamed: 0     588101 non-null  int64 \n",
      " 1   user id        588101 non-null  int64 \n",
      " 2   test group     588101 non-null  object\n",
      " 3   converted      588101 non-null  bool  \n",
      " 4   total ads      588101 non-null  int64 \n",
      " 5   most ads day   588101 non-null  object\n",
      " 6   most ads hour  588101 non-null  int64 \n",
      "dtypes: bool(1), int64(4), object(2)\n",
      "memory usage: 27.5+ MB\n"
     ]
    }
   ],
   "source": [
    "df.info()"
   ]
  },
  {
   "cell_type": "code",
   "execution_count": 5,
   "metadata": {},
   "outputs": [
    {
     "data": {
      "text/plain": [
       "Index(['Unnamed: 0', 'user id', 'test group', 'converted', 'total ads',\n",
       "       'most ads day', 'most ads hour'],\n",
       "      dtype='object')"
      ]
     },
     "execution_count": 5,
     "metadata": {},
     "output_type": "execute_result"
    }
   ],
   "source": [
    "df.columns"
   ]
  },
  {
   "cell_type": "code",
   "execution_count": 6,
   "metadata": {},
   "outputs": [
    {
     "data": {
      "text/html": [
       "<div>\n",
       "<style scoped>\n",
       "    .dataframe tbody tr th:only-of-type {\n",
       "        vertical-align: middle;\n",
       "    }\n",
       "\n",
       "    .dataframe tbody tr th {\n",
       "        vertical-align: top;\n",
       "    }\n",
       "\n",
       "    .dataframe thead th {\n",
       "        text-align: right;\n",
       "    }\n",
       "</style>\n",
       "<table border=\"1\" class=\"dataframe\">\n",
       "  <thead>\n",
       "    <tr style=\"text-align: right;\">\n",
       "      <th></th>\n",
       "      <th>Unnamed: 0</th>\n",
       "      <th>user id</th>\n",
       "      <th>total ads</th>\n",
       "      <th>most ads hour</th>\n",
       "    </tr>\n",
       "  </thead>\n",
       "  <tbody>\n",
       "    <tr>\n",
       "      <th>count</th>\n",
       "      <td>588101.000000</td>\n",
       "      <td>5.881010e+05</td>\n",
       "      <td>588101.000000</td>\n",
       "      <td>588101.000000</td>\n",
       "    </tr>\n",
       "    <tr>\n",
       "      <th>mean</th>\n",
       "      <td>294050.000000</td>\n",
       "      <td>1.310692e+06</td>\n",
       "      <td>24.820876</td>\n",
       "      <td>14.469061</td>\n",
       "    </tr>\n",
       "    <tr>\n",
       "      <th>std</th>\n",
       "      <td>169770.279667</td>\n",
       "      <td>2.022260e+05</td>\n",
       "      <td>43.715181</td>\n",
       "      <td>4.834634</td>\n",
       "    </tr>\n",
       "    <tr>\n",
       "      <th>min</th>\n",
       "      <td>0.000000</td>\n",
       "      <td>9.000000e+05</td>\n",
       "      <td>1.000000</td>\n",
       "      <td>0.000000</td>\n",
       "    </tr>\n",
       "    <tr>\n",
       "      <th>25%</th>\n",
       "      <td>147025.000000</td>\n",
       "      <td>1.143190e+06</td>\n",
       "      <td>4.000000</td>\n",
       "      <td>11.000000</td>\n",
       "    </tr>\n",
       "    <tr>\n",
       "      <th>50%</th>\n",
       "      <td>294050.000000</td>\n",
       "      <td>1.313725e+06</td>\n",
       "      <td>13.000000</td>\n",
       "      <td>14.000000</td>\n",
       "    </tr>\n",
       "    <tr>\n",
       "      <th>75%</th>\n",
       "      <td>441075.000000</td>\n",
       "      <td>1.484088e+06</td>\n",
       "      <td>27.000000</td>\n",
       "      <td>18.000000</td>\n",
       "    </tr>\n",
       "    <tr>\n",
       "      <th>max</th>\n",
       "      <td>588100.000000</td>\n",
       "      <td>1.654483e+06</td>\n",
       "      <td>2065.000000</td>\n",
       "      <td>23.000000</td>\n",
       "    </tr>\n",
       "  </tbody>\n",
       "</table>\n",
       "</div>"
      ],
      "text/plain": [
       "          Unnamed: 0       user id      total ads  most ads hour\n",
       "count  588101.000000  5.881010e+05  588101.000000  588101.000000\n",
       "mean   294050.000000  1.310692e+06      24.820876      14.469061\n",
       "std    169770.279667  2.022260e+05      43.715181       4.834634\n",
       "min         0.000000  9.000000e+05       1.000000       0.000000\n",
       "25%    147025.000000  1.143190e+06       4.000000      11.000000\n",
       "50%    294050.000000  1.313725e+06      13.000000      14.000000\n",
       "75%    441075.000000  1.484088e+06      27.000000      18.000000\n",
       "max    588100.000000  1.654483e+06    2065.000000      23.000000"
      ]
     },
     "execution_count": 6,
     "metadata": {},
     "output_type": "execute_result"
    }
   ],
   "source": [
    "df.describe()"
   ]
  },
  {
   "cell_type": "code",
   "execution_count": 7,
   "metadata": {},
   "outputs": [
    {
     "name": "stdout",
     "output_type": "stream",
     "text": [
      "Columna: Unnamed: 0\n",
      "[     0      1      2 ... 588098 588099 588100]\n",
      "\n",
      "--------------------\n",
      "\n",
      "Columna: user id\n",
      "[1069124 1119715 1144181 ... 1038442 1496395 1237779]\n",
      "\n",
      "--------------------\n",
      "\n",
      "Columna: test group\n",
      "['ad' 'psa']\n",
      "\n",
      "--------------------\n",
      "\n",
      "Columna: converted\n",
      "[False  True]\n",
      "\n",
      "--------------------\n",
      "\n",
      "Columna: total ads\n",
      "[ 130   93   21  355  276  734  264   17  142  209   47   61   40   20\n",
      "    9   64   26  248   73  281  389  136   87   46    3  114  175  119\n",
      "  313   89  364   24  112   49   27  274   45  177   90  265   71   31\n",
      "  588   56  108  103  239   63   66  111   74   14  258 1057  137  131\n",
      "  124   13   37  738  199  211   98   19  127   18  126  197   77   60\n",
      "   95   97   22  117   41   57  593   28   85   53   43  133   33 1328\n",
      "    7    6   62  247  464   99  233  139  407  323   76  395  166   34\n",
      "  246  653  122   32  386   44  138  109   39  159   30   59  421  446\n",
      "  555  105  128  310  163   10  290  164   79  312   16  161  505  640\n",
      "  118  266  456   80  100  983   36    1    5  463  720   52  442  334\n",
      " 1056  270  240  194  271  489  115  180  241   15  154  120   29  107\n",
      "  176    8  146  121   50   69  297   35   78  170  214   81    2   38\n",
      "  681  733   23  157  153  135   88  167    4   58  195  318   48   83\n",
      "   96  392  371   91   68  427  516  249   54   11   25  171   55  403\n",
      "  140  455  222   82  168  225  633  116  188  423   70  110  311  174\n",
      "  208   92  172  657  260  191  173  245  150   84  134  526  607   75\n",
      "  302   94  294  288   42  123  179  160   51  190  221  216  347  102\n",
      "   65 1632  106  125  317  206  350  202  148  145  525  445  309  186\n",
      "  486  380  178  321  205   86  149  413   67  587  351  147  144  470\n",
      "  387  335  235  306  230  535  181  401  394  568  155  326  308  617\n",
      "   12  655  158  375  237  104  218  215  345  141  253   72  193  700\n",
      "  400 1015  360 1128  292  151  224  779  213  304  220  207  261  536\n",
      "  515  184  152  232  490  228  532  790  203  285  234  429  325  231\n",
      "  101  393  129  352  182  332  307  378  226  642  385  187  452  132\n",
      "  504  143  198  243  269  447  287  468  338  185  728  169  113  991\n",
      "  514  554  571  192  298  242  542  698  196 1173  183  466  156  257\n",
      "  189  305  438  212  461  286  252  521  162  354  353  857  315  272\n",
      "  284  262  374  283  675  566  582  399  411  368  404  280  487  602\n",
      "  443  950  362  523  301  259  165  376  219  679  358 1021  251  282\n",
      "  329 1135  383  761  481  291  594  688  328  238  327  441  430  434\n",
      "  300  416  357  275  558  448  499  279  546  359  426  817  433  610\n",
      " 1010  343  341  420  474  622  654  348  459  507  250  388  592  200\n",
      "  322  227  802  295  467  217  806  414  599  612  316  415  631  256\n",
      "  606  278  320 1011  236  223  739  444  396  758 1020  370  947  277\n",
      "  485  412  436  477  273  541  244  825  613  263  204  342  372  805\n",
      "  356  267  820  852  408  809  268  324  379  527  336  503  465  451\n",
      "  432  480  719  771  629  473  254  552  484  603  210  373  417  425\n",
      "  418  584  391  479  938  361  424  497 1129  687  303  369  569  628\n",
      "  563  330  201  670  564  586  842  337  339  314  630  491  731  340\n",
      "  382  296  492  502  601  437  509  346  494  804  501  540  595  578\n",
      "  920  493  794  293  518  440  652  598  724  344  764 1680  641  365\n",
      " 1100  410  907  333  255  506  331  845  435  742  496  667  705  689\n",
      "  457  591  495  551  608  319  367  402  619  299  647  522 1229  562\n",
      " 1398  229  377  634  478  703  662  556  462  483  431  405  710  636\n",
      "  775  539  557  574  714  609  524  449  476  544  545  512  428  678\n",
      "  406  797  639  702 1016  453  482  575  289  745  381  397  621  909\n",
      "  585  580  409 1491  727  926  711  815  419 1302  735 1035  517  716\n",
      "  789 1014  572  363 1414  643  627  645  753  533  887  384  704  709\n",
      "  460  854 1267  663  488  439  547  840  472  510  863  520  366  781\n",
      "  769  511  744  398  743  646  349  865  538  422  660 1003  615  549\n",
      "  894  500  713  723  915 1321 2065 1354  722  561 1101  519  560  471\n",
      " 1196  665  828  573  961  799  651  454  597  648  934  620  690 1778\n",
      "  616  637  624  390  530  772  604  656  760  786  469  649  925  798\n",
      "  548  611  841  625  691  888  932  695  785 1146  891  883  581  911\n",
      "  565  638  550  583  800  664 1391  699  827  791  579  955  901  570\n",
      "  763  672  812  669  788  596  458  986 1232 1032  908  873  923  567\n",
      "  730  498  792  543  759  885  858  869  508  475  450  659  559  712\n",
      "  684  904  680  706  921  673  952  808  729]\n",
      "\n",
      "--------------------\n",
      "\n",
      "Columna: most ads day\n",
      "['Monday' 'Tuesday' 'Friday' 'Saturday' 'Wednesday' 'Sunday' 'Thursday']\n",
      "\n",
      "--------------------\n",
      "\n",
      "Columna: most ads hour\n",
      "[20 22 18 10 14 13 19 11 12 16 21  3 23  4  8  0  2 15  1  6 17  7  9  5]\n",
      "\n",
      "--------------------\n",
      "\n"
     ]
    }
   ],
   "source": [
    "# Creamos un bucle for para sacar los valores únicos de cada columna\n",
    "for column in df.columns:\n",
    "        print(f\"Columna: {column}\")\n",
    "        print(df[column].unique())\n",
    "\n",
    "        print(\"\\n--------------------\\n\")"
   ]
  },
  {
   "cell_type": "code",
   "execution_count": 8,
   "metadata": {},
   "outputs": [
    {
     "name": "stdout",
     "output_type": "stream",
     "text": [
      "\n",
      "Conteo de valores nulos por columna:\n",
      "Unnamed: 0       0\n",
      "user id          0\n",
      "test group       0\n",
      "converted        0\n",
      "total ads        0\n",
      "most ads day     0\n",
      "most ads hour    0\n",
      "dtype: int64\n"
     ]
    }
   ],
   "source": [
    "# Buscamos si hay algún nulo en el DataFrame \n",
    "nulos = df.isnull().sum() \n",
    "print(\"\\nConteo de valores nulos por columna:\") \n",
    "print(nulos) "
   ]
  },
  {
   "cell_type": "code",
   "execution_count": 9,
   "metadata": {},
   "outputs": [
    {
     "name": "stdout",
     "output_type": "stream",
     "text": [
      "\n",
      "Número de filas duplicadas:\n",
      "0\n"
     ]
    }
   ],
   "source": [
    "# Identificar y contar filas duplicadas \n",
    "duplicados = df.duplicated().sum() \n",
    "print(\"\\nNúmero de filas duplicadas:\") \n",
    "print(duplicados)"
   ]
  },
  {
   "cell_type": "code",
   "execution_count": 11,
   "metadata": {},
   "outputs": [],
   "source": [
    "# Quitamos 'Unnamed: 0'\n",
    "df = df.drop(columns = ['Unnamed: 0'])"
   ]
  },
  {
   "cell_type": "code",
   "execution_count": 12,
   "metadata": {},
   "outputs": [
    {
     "data": {
      "text/html": [
       "<div>\n",
       "<style scoped>\n",
       "    .dataframe tbody tr th:only-of-type {\n",
       "        vertical-align: middle;\n",
       "    }\n",
       "\n",
       "    .dataframe tbody tr th {\n",
       "        vertical-align: top;\n",
       "    }\n",
       "\n",
       "    .dataframe thead th {\n",
       "        text-align: right;\n",
       "    }\n",
       "</style>\n",
       "<table border=\"1\" class=\"dataframe\">\n",
       "  <thead>\n",
       "    <tr style=\"text-align: right;\">\n",
       "      <th></th>\n",
       "      <th>user id</th>\n",
       "      <th>test group</th>\n",
       "      <th>converted</th>\n",
       "      <th>total ads</th>\n",
       "      <th>most ads day</th>\n",
       "      <th>most ads hour</th>\n",
       "    </tr>\n",
       "  </thead>\n",
       "  <tbody>\n",
       "    <tr>\n",
       "      <th>0</th>\n",
       "      <td>1069124</td>\n",
       "      <td>ad</td>\n",
       "      <td>False</td>\n",
       "      <td>130</td>\n",
       "      <td>Monday</td>\n",
       "      <td>20</td>\n",
       "    </tr>\n",
       "    <tr>\n",
       "      <th>1</th>\n",
       "      <td>1119715</td>\n",
       "      <td>ad</td>\n",
       "      <td>False</td>\n",
       "      <td>93</td>\n",
       "      <td>Tuesday</td>\n",
       "      <td>22</td>\n",
       "    </tr>\n",
       "  </tbody>\n",
       "</table>\n",
       "</div>"
      ],
      "text/plain": [
       "   user id test group  converted  total ads most ads day  most ads hour\n",
       "0  1069124         ad      False        130       Monday             20\n",
       "1  1119715         ad      False         93      Tuesday             22"
      ]
     },
     "execution_count": 12,
     "metadata": {},
     "output_type": "execute_result"
    }
   ],
   "source": [
    "# Imprimimos sólo 2 filas para ver si ha resultado el cambio \n",
    "df.head(2)"
   ]
  },
  {
   "cell_type": "markdown",
   "metadata": {},
   "source": [
    "# 2. **Definición de las hipótesis:**\n",
    "   Plantea una `hipótesis nula (H0)` y una `hipótesis alternativa (H1)` para el experimento (en este caso, ya están definidas):\n",
    "\n",
    "   - **Hipótesis nula (H0):** No hay diferencia significativa en la tasa de conversión entre los grupos de prueba \"ad\" y \"psa\".\n",
    "   - **Hipótesis alternativa (H1):** Existe una diferencia significativa en la tasa de conversión entre los grupos de prueba \"ad\" y \"psa\"."
   ]
  },
  {
   "cell_type": "markdown",
   "metadata": {},
   "source": [
    "_ _ _"
   ]
  },
  {
   "cell_type": "markdown",
   "metadata": {},
   "source": [
    "1. **Hipótesis nula (H0):** Esta hipótesis establece que no hay diferencia significativa en la tasa de conversión entre los grupos de prueba \"ad\" y \"psa\". \n",
    "\n",
    "2. **Hipótesis alternativa (H1):** La hipótesis alternativa sugiere que existe una diferencia significativa en la tasa de conversión entre los grupos \"ad\" y \"psa\".\n",
    "\n",
    "En resumen, estamos evaluando si el nuevo diseño de anuncio (\"ad\") tiene un impacto significativo en la tasa de conversión en comparación con el diseño anterior (\"psa\"). "
   ]
  },
  {
   "cell_type": "markdown",
   "metadata": {},
   "source": [
    "# 3. **Cálculo de la tasa de conversión:**\n",
    "   - Para el grupo \"ad\", la tasa de conversión es el número de usuarios convertidos dividido por el número total de usuarios en ese grupo.\n",
    "   - Realiza el mismo cálculo para el grupo \"psa\".\n",
    "\n",
    "NOTA: La `tasa de conversión` (Conversion Rate en inglés, CR) es un indicador clave en marketing y ventas que mide el porcentaje de visitantes de un sitio web u otros receptores de un mensaje de marketing que realizan la acción deseada, como realizar una compra, completar un formulario o suscribirse a un boletín informativo. Se calcula dividiendo el número de conversiones por el número total de visitantes o receptores."
   ]
  },
  {
   "cell_type": "code",
   "execution_count": 17,
   "metadata": {},
   "outputs": [
    {
     "name": "stdout",
     "output_type": "stream",
     "text": [
      "Tasa de conversión para el grupo 'ad': 0.10%\n",
      "Tasa de conversión para el grupo 'psa': 0.07%\n"
     ]
    }
   ],
   "source": [
    "# Creamos una función\n",
    "def calcular_tasa_conversion(grupo):\n",
    "  \"\"\"\n",
    "  Calcula la tasa de conversión para un grupo específico.\n",
    "\n",
    "  Args:\n",
    "    grupo: El nombre del grupo (\"ad\" o \"psa\").\n",
    "\n",
    "  Returns:\n",
    "    La tasa de conversión como un porcentaje.\n",
    "  \"\"\"\n",
    "  # Filtra el DataFrame para obtener solo el grupo especificado\n",
    "  df_grupo = df[df[\"test group\"] == grupo]\n",
    "\n",
    "  # Cuenta el número de conversiones en el grupo filtrado\n",
    "  conversiones = df_grupo[\"converted\"].sum()\n",
    "\n",
    "  # Suma el número total de usuarios en el grupo filtrado\n",
    "  total_usuarios = df_grupo[\"total ads\"].sum()\n",
    "\n",
    "  # Calcula la tasa de conversión como porcentaje\n",
    "  tasa_conversion = (conversiones / total_usuarios) * 100\n",
    "\n",
    "  # Devuelve la tasa de conversión calculada\n",
    "  return tasa_conversion\n",
    "\n",
    "# Tasa de conversión para el grupo \"ad\"\n",
    "tasa_conversion_ad = calcular_tasa_conversion(\"ad\")\n",
    "print(f\"Tasa de conversión para el grupo 'ad': {tasa_conversion_ad:.2f}%\")\n",
    "\n",
    "# Tasa de conversión para el grupo \"psa\"\n",
    "tasa_conversion_psa = calcular_tasa_conversion(\"psa\")\n",
    "print(f\"Tasa de conversión para el grupo 'psa': {tasa_conversion_psa:.2f}%\")"
   ]
  },
  {
   "cell_type": "markdown",
   "metadata": {},
   "source": [
    "# 4. **Prueba de hipótesis:**\n",
    "   Utiliza una prueba estadística, como la prueba t de Student o la prueba chi-cuadrado, para comparar las tasas de conversión entre los grupos \"ad\" y \"psa\"."
   ]
  },
  {
   "cell_type": "code",
   "execution_count": 16,
   "metadata": {},
   "outputs": [
    {
     "name": "stdout",
     "output_type": "stream",
     "text": [
      "converted    False   True\n",
      "test group               \n",
      "ad          550154  14423\n",
      "psa          23104    420\n",
      "Chi-squared statistic: 54.01\n",
      "p-value: 0.0000\n"
     ]
    }
   ],
   "source": [
    "# Suponiendo que el DataFrame se llama \"df\"\n",
    "contingency_table = pd.crosstab(df[\"test group\"], df[\"converted\"])\n",
    "# Crea una tabla de contingencia para mostrar la distribución de conversiones por grupo\n",
    "print(contingency_table)\n",
    "\n",
    "chi2_stat, p_value, dof, expected = chi2_contingency(contingency_table.values)\n",
    "# Calcula el chi-cuadrado, p-valor, grados de libertad y valores esperados\n",
    "print(f\"Chi-squared statistic: {chi2_stat:.2f}\")  # Imprime el estadístico chi-cuadrado\n",
    "print(f\"p-value: {p_value:.4f}\")  # Imprime el p-valor\n"
   ]
  },
  {
   "cell_type": "markdown",
   "metadata": {},
   "source": [
    "# 5. **Análisis de resultados:**\n",
    "   - Si el valor p es menor que un umbral predefinido (por ejemplo, 0.05), rechazamos la hipótesis nula y concluimos que hay una diferencia significativa en las tasas de conversión entre los grupos.\n",
    "   - Si el valor p es mayor que el umbral, no podemos rechazar la hipótesis nula y concluimos que no hay evidencia suficiente para afirmar que hay una diferencia significativa."
   ]
  },
  {
   "cell_type": "markdown",
   "metadata": {},
   "source": [
    "`Con lo que rechazamos la hipótesis nula y concluimos que existe una diferecia significativa`."
   ]
  }
 ],
 "metadata": {
  "kernelspec": {
   "display_name": "Python 3",
   "language": "python",
   "name": "python3"
  },
  "language_info": {
   "codemirror_mode": {
    "name": "ipython",
    "version": 3
   },
   "file_extension": ".py",
   "mimetype": "text/x-python",
   "name": "python",
   "nbconvert_exporter": "python",
   "pygments_lexer": "ipython3",
   "version": "3.9.12"
  }
 },
 "nbformat": 4,
 "nbformat_minor": 2
}
