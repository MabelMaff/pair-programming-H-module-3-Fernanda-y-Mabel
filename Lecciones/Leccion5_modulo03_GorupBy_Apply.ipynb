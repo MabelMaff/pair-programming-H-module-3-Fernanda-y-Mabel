{
 "cells": [
  {
   "cell_type": "markdown",
   "metadata": {},
   "source": [
    "# Ejercicios `apply` y `groupby`\n",
    "\n",
    "## Ejercicios `apply`\n",
    "\n",
    "1. **Convertir columnas a tipo numérico**:\n",
    "    Las columnas `land_area`, `armed_forces_size`, `co2-emissions`, `gdp`, `population`, `urban_population`, `latitude`, `longitude`, `density`, `cpi` son de tipo `object` pero en realidad deberían ser numéricas. Crea una función que nos permita cambiar el tipo de dato de estas columnas al que le corresponde."
   ]
  },
  {
   "cell_type": "code",
   "execution_count": 1,
   "metadata": {},
   "outputs": [],
   "source": [
    "import pandas as pd"
   ]
  },
  {
   "cell_type": "code",
   "execution_count": null,
   "metadata": {},
   "outputs": [],
   "source": []
  },
  {
   "cell_type": "markdown",
   "metadata": {},
   "source": [
    "2. **Añadir columna 'Continent'**:\n",
    "    Crea una función para añadir una nueva columna llamada 'Continent' al DataFrame para indicar a qué continente pertenece cada país."
   ]
  },
  {
   "cell_type": "code",
   "execution_count": null,
   "metadata": {},
   "outputs": [],
   "source": []
  },
  {
   "cell_type": "markdown",
   "metadata": {},
   "source": [
    "3. **Guardar el DataFrame después de los cambios**:\n",
    "    Guarda el DataFrame después de los cambios creados después de los dos ejercicios anteriores para usarlo en el pairprogramming de mañana."
   ]
  },
  {
   "cell_type": "code",
   "execution_count": null,
   "metadata": {},
   "outputs": [],
   "source": []
  },
  {
   "cell_type": "markdown",
   "metadata": {},
   "source": [
    "## Ejercicios `groupby`\n",
    "\n",
    "1. **Densidad de población promedio por continente**:\n",
    "    ¿Cuál es la densidad de población promedio por continente?"
   ]
  },
  {
   "cell_type": "code",
   "execution_count": null,
   "metadata": {},
   "outputs": [],
   "source": []
  },
  {
   "cell_type": "markdown",
   "metadata": {},
   "source": [
    "\n",
    "2. **Esperanza de vida promedio por idioma oficial**:\n",
    "    ¿Cuál es la esperanza de vida promedio por idioma oficial? Agrupa los países por idioma oficial y calcula la esperanza de vida promedio."
   ]
  },
  {
   "cell_type": "code",
   "execution_count": null,
   "metadata": {},
   "outputs": [],
   "source": []
  },
  {
   "cell_type": "markdown",
   "metadata": {},
   "source": [
    "3. **Tasa de mortalidad infantil promedio por moneda**:\n",
    "    ¿Cuál es la tasa de mortalidad infantil promedio por moneda?"
   ]
  },
  {
   "cell_type": "code",
   "execution_count": null,
   "metadata": {},
   "outputs": [],
   "source": []
  },
  {
   "cell_type": "markdown",
   "metadata": {},
   "source": [
    "4. **Salario mínimo por continente**:\n",
    "    ¿Cuál es el salario mínimo por continente?"
   ]
  },
  {
   "cell_type": "code",
   "execution_count": null,
   "metadata": {},
   "outputs": [],
   "source": []
  },
  {
   "cell_type": "markdown",
   "metadata": {},
   "source": [
    "5. **Tasa de impuestos total máxima por densidad de población por continente**:\n",
    "    ¿Cuál es la tasa de impuestos total máxima por densidad de población por continente?"
   ]
  },
  {
   "cell_type": "code",
   "execution_count": null,
   "metadata": {},
   "outputs": [],
   "source": []
  },
  {
   "cell_type": "markdown",
   "metadata": {},
   "source": [
    "6. **Porcentaje de población urbana promedio por continente**:\n",
    "    ¿Cuál es el porcentaje de población urbana promedio por continente?"
   ]
  },
  {
   "cell_type": "code",
   "execution_count": null,
   "metadata": {},
   "outputs": [],
   "source": []
  },
  {
   "cell_type": "markdown",
   "metadata": {},
   "source": [
    "7. **Diferencia entre el PIB promedio y el gasto en salud de bolsillo promedio por idioma oficial**:\n",
    "    ¿Cuál es la diferencia entre el PIB promedio y el gasto en salud de bolsillo promedio por idioma oficial? Para contestar esta pregunta debes seguir los siguientes pasos:\n",
    "    \n",
    "    - Agrupa el DataFrame por idioma oficial y calcula la media del Gasto de Bolsillo en salud (`out_of_pocket_health_expenditure`) y del PIB (`gdp`).\n",
    "    - Calcula la diferencia entre el PIB promedio y el gasto en salud de bolsillo promedio."
   ]
  },
  {
   "cell_type": "code",
   "execution_count": null,
   "metadata": {},
   "outputs": [],
   "source": []
  },
  {
   "cell_type": "markdown",
   "metadata": {},
   "source": [
    "8. **Tasa de maternidad promedio por tasa de impuestos total**:\n",
    "    ¿Cuál es la tasa de maternidad promedio por tasa de impuestos total? Para resolver el ejercicio deberás:\n",
    "    \n",
    "    - Primero, calcula la tasa de maternidad promedio para cada continente. Puedes usar la columna `maternal_mortality_ratio` que representa la tasa de mortalidad materna.\n",
    "    - Calcula la tasa de impuestos total promedio para cada continente. Puedes usar la columna `total_tax_rate` que representa la tasa de impuestos total en cada continente.\n",
    "    - Luego, divide la tasa de maternidad promedio por la tasa de impuestos total promedio para obtener la relación entre ambas tasas.\n",
    "    - Encuentra el país con la tasa de maternidad más alta por punto porcentual de tasa de impuestos total."
   ]
  },
  {
   "cell_type": "code",
   "execution_count": null,
   "metadata": {},
   "outputs": [],
   "source": []
  },
  {
   "cell_type": "markdown",
   "metadata": {},
   "source": [
    "## Ejercicios bonus `groupby`\n",
    "\n",
    "1. **Tasa de natalidad máxima por área forestal por continente**:\n",
    "    ¿Cuál es la tasa de natalidad máxima por área forestal por continente? Encuentra el país con la tasa de natalidad más alta por cada punto porcentual de área forestal."
   ]
  },
  {
   "cell_type": "code",
   "execution_count": null,
   "metadata": {},
   "outputs": [],
   "source": []
  },
  {
   "cell_type": "markdown",
   "metadata": {},
   "source": [
    "2. **Diferencia entre la tasa de impuestos total y la tasa de desempleo promedio por continente**:\n",
    "    ¿Cuál es la diferencia entre la tasa de impuestos total y la tasa de desempleo promedio por continente?   "
   ]
  },
  {
   "cell_type": "code",
   "execution_count": null,
   "metadata": {},
   "outputs": [],
   "source": []
  }
 ],
 "metadata": {
  "kernelspec": {
   "display_name": "base",
   "language": "python",
   "name": "python3"
  },
  "language_info": {
   "codemirror_mode": {
    "name": "ipython",
    "version": 3
   },
   "file_extension": ".py",
   "mimetype": "text/x-python",
   "name": "python",
   "nbconvert_exporter": "python",
   "pygments_lexer": "ipython3",
   "version": "3.9.12"
  }
 },
 "nbformat": 4,
 "nbformat_minor": 2
}
