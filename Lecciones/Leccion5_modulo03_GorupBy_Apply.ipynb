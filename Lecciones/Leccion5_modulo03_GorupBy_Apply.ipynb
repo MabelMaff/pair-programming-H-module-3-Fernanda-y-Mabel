{
 "cells": [
  {
   "cell_type": "markdown",
   "metadata": {},
   "source": [
    "# Ejercicios `apply` y `groupby`\n",
    "\n",
    "## Ejercicios `apply`\n",
    "\n",
    "1. **Convertir columnas a tipo numérico**:\n",
    "    Las columnas `land_area`, `armed_forces_size`, `co2-emissions`, `gdp`, `population`, `urban_population`, `latitude`, `longitude`, `density`, `cpi` son de tipo `object` pero en realidad deberían ser numéricas. Crea una función que nos permita cambiar el tipo de dato de estas columnas al que le corresponde."
   ]
  },
  {
   "cell_type": "code",
   "execution_count": 1,
   "metadata": {},
   "outputs": [],
   "source": [
    "import pandas as pd"
   ]
  },
  {
   "cell_type": "code",
<<<<<<< HEAD
   "execution_count": null,
   "metadata": {},
   "outputs": [],
   "source": []
=======
   "execution_count": 4,
   "metadata": {},
   "outputs": [
    {
     "data": {
      "text/html": [
       "<div>\n",
       "<style scoped>\n",
       "    .dataframe tbody tr th:only-of-type {\n",
       "        vertical-align: middle;\n",
       "    }\n",
       "\n",
       "    .dataframe tbody tr th {\n",
       "        vertical-align: top;\n",
       "    }\n",
       "\n",
       "    .dataframe thead th {\n",
       "        text-align: right;\n",
       "    }\n",
       "</style>\n",
       "<table border=\"1\" class=\"dataframe\">\n",
       "  <thead>\n",
       "    <tr style=\"text-align: right;\">\n",
       "      <th></th>\n",
       "      <th>Unnamed: 0</th>\n",
       "      <th>Country</th>\n",
       "      <th>Density\\r\\n(P/Km2)</th>\n",
       "      <th>Abbreviation</th>\n",
       "      <th>Agricultural Land( %)</th>\n",
       "      <th>Land Area(Km2)</th>\n",
       "      <th>Armed Forces size</th>\n",
       "      <th>Birth Rate</th>\n",
       "      <th>Calling Code</th>\n",
       "      <th>Capital/Major City</th>\n",
       "      <th>...</th>\n",
       "      <th>Out of pocket health expenditure</th>\n",
       "      <th>Physicians per thousand</th>\n",
       "      <th>Population</th>\n",
       "      <th>Population: Labor force participation (%)</th>\n",
       "      <th>Tax revenue (%)</th>\n",
       "      <th>Total tax rate</th>\n",
       "      <th>Unemployment rate</th>\n",
       "      <th>Urban_population</th>\n",
       "      <th>country</th>\n",
       "      <th>coordinates</th>\n",
       "    </tr>\n",
       "  </thead>\n",
       "  <tbody>\n",
       "    <tr>\n",
       "      <th>0</th>\n",
       "      <td>0</td>\n",
       "      <td>Afghanistan</td>\n",
       "      <td>60</td>\n",
       "      <td>AF</td>\n",
       "      <td>58.10%</td>\n",
       "      <td>652,230</td>\n",
       "      <td>323,000</td>\n",
       "      <td>32.49</td>\n",
       "      <td>93.0</td>\n",
       "      <td>Kabul</td>\n",
       "      <td>...</td>\n",
       "      <td>78.40%</td>\n",
       "      <td>0.28</td>\n",
       "      <td>38,041,754</td>\n",
       "      <td>48.90%</td>\n",
       "      <td>9.30%</td>\n",
       "      <td>71.40%</td>\n",
       "      <td>11.12%</td>\n",
       "      <td>9,797,273</td>\n",
       "      <td>Afghanistan</td>\n",
       "      <td>('33.93911 ', '67.709953')</td>\n",
       "    </tr>\n",
       "    <tr>\n",
       "      <th>1</th>\n",
       "      <td>1</td>\n",
       "      <td>Albania</td>\n",
       "      <td>105</td>\n",
       "      <td>AL</td>\n",
       "      <td>43.10%</td>\n",
       "      <td>28,748</td>\n",
       "      <td>9,000</td>\n",
       "      <td>11.78</td>\n",
       "      <td>355.0</td>\n",
       "      <td>Tirana</td>\n",
       "      <td>...</td>\n",
       "      <td>56.90%</td>\n",
       "      <td>1.20</td>\n",
       "      <td>2,854,191</td>\n",
       "      <td>55.70%</td>\n",
       "      <td>18.60%</td>\n",
       "      <td>36.60%</td>\n",
       "      <td>12.33%</td>\n",
       "      <td>1,747,593</td>\n",
       "      <td>Albania</td>\n",
       "      <td>('41.153332 ', '20.168331')</td>\n",
       "    </tr>\n",
       "    <tr>\n",
       "      <th>2</th>\n",
       "      <td>2</td>\n",
       "      <td>Algeria</td>\n",
       "      <td>18</td>\n",
       "      <td>DZ</td>\n",
       "      <td>17.40%</td>\n",
       "      <td>2,381,741</td>\n",
       "      <td>317,000</td>\n",
       "      <td>24.28</td>\n",
       "      <td>213.0</td>\n",
       "      <td>Algiers</td>\n",
       "      <td>...</td>\n",
       "      <td>28.10%</td>\n",
       "      <td>1.72</td>\n",
       "      <td>43,053,054</td>\n",
       "      <td>41.20%</td>\n",
       "      <td>37.20%</td>\n",
       "      <td>66.10%</td>\n",
       "      <td>11.70%</td>\n",
       "      <td>31,510,100</td>\n",
       "      <td>Algeria</td>\n",
       "      <td>('28.033886 ', '1.659626')</td>\n",
       "    </tr>\n",
       "    <tr>\n",
       "      <th>3</th>\n",
       "      <td>3</td>\n",
       "      <td>Andorra</td>\n",
       "      <td>164</td>\n",
       "      <td>AD</td>\n",
       "      <td>40.00%</td>\n",
       "      <td>468</td>\n",
       "      <td>NaN</td>\n",
       "      <td>7.20</td>\n",
       "      <td>376.0</td>\n",
       "      <td>Andorra la Vella</td>\n",
       "      <td>...</td>\n",
       "      <td>36.40%</td>\n",
       "      <td>3.33</td>\n",
       "      <td>77,142</td>\n",
       "      <td>NaN</td>\n",
       "      <td>NaN</td>\n",
       "      <td>NaN</td>\n",
       "      <td>NaN</td>\n",
       "      <td>67,873</td>\n",
       "      <td>Andorra</td>\n",
       "      <td>('42.506285 ', '1.521801')</td>\n",
       "    </tr>\n",
       "    <tr>\n",
       "      <th>4</th>\n",
       "      <td>4</td>\n",
       "      <td>Angola</td>\n",
       "      <td>26</td>\n",
       "      <td>AO</td>\n",
       "      <td>47.50%</td>\n",
       "      <td>1,246,700</td>\n",
       "      <td>117,000</td>\n",
       "      <td>40.73</td>\n",
       "      <td>244.0</td>\n",
       "      <td>Luanda</td>\n",
       "      <td>...</td>\n",
       "      <td>33.40%</td>\n",
       "      <td>0.21</td>\n",
       "      <td>31,825,295</td>\n",
       "      <td>77.50%</td>\n",
       "      <td>9.20%</td>\n",
       "      <td>49.10%</td>\n",
       "      <td>6.89%</td>\n",
       "      <td>21,061,025</td>\n",
       "      <td>Angola</td>\n",
       "      <td>('-11.202692 ', '17.873887')</td>\n",
       "    </tr>\n",
       "  </tbody>\n",
       "</table>\n",
       "<p>5 rows × 36 columns</p>\n",
       "</div>"
      ],
      "text/plain": [
       "   Unnamed: 0      Country Density\\r\\n(P/Km2) Abbreviation  \\\n",
       "0           0  Afghanistan                 60           AF   \n",
       "1           1      Albania                105           AL   \n",
       "2           2      Algeria                 18           DZ   \n",
       "3           3      Andorra                164           AD   \n",
       "4           4       Angola                 26           AO   \n",
       "\n",
       "  Agricultural Land( %) Land Area(Km2) Armed Forces size  Birth Rate  \\\n",
       "0                58.10%        652,230           323,000       32.49   \n",
       "1                43.10%         28,748             9,000       11.78   \n",
       "2                17.40%      2,381,741           317,000       24.28   \n",
       "3                40.00%            468               NaN        7.20   \n",
       "4                47.50%      1,246,700           117,000       40.73   \n",
       "\n",
       "   Calling Code Capital/Major City  ... Out of pocket health expenditure  \\\n",
       "0          93.0              Kabul  ...                           78.40%   \n",
       "1         355.0             Tirana  ...                           56.90%   \n",
       "2         213.0            Algiers  ...                           28.10%   \n",
       "3         376.0   Andorra la Vella  ...                           36.40%   \n",
       "4         244.0             Luanda  ...                           33.40%   \n",
       "\n",
       "  Physicians per thousand  Population  \\\n",
       "0                    0.28  38,041,754   \n",
       "1                    1.20   2,854,191   \n",
       "2                    1.72  43,053,054   \n",
       "3                    3.33      77,142   \n",
       "4                    0.21  31,825,295   \n",
       "\n",
       "  Population: Labor force participation (%)  Tax revenue (%) Total tax rate  \\\n",
       "0                                    48.90%            9.30%         71.40%   \n",
       "1                                    55.70%           18.60%         36.60%   \n",
       "2                                    41.20%           37.20%         66.10%   \n",
       "3                                       NaN              NaN            NaN   \n",
       "4                                    77.50%            9.20%         49.10%   \n",
       "\n",
       "  Unemployment rate Urban_population      country  \\\n",
       "0            11.12%        9,797,273  Afghanistan   \n",
       "1            12.33%        1,747,593      Albania   \n",
       "2            11.70%       31,510,100      Algeria   \n",
       "3               NaN           67,873      Andorra   \n",
       "4             6.89%       21,061,025       Angola   \n",
       "\n",
       "                    coordinates  \n",
       "0    ('33.93911 ', '67.709953')  \n",
       "1   ('41.153332 ', '20.168331')  \n",
       "2    ('28.033886 ', '1.659626')  \n",
       "3    ('42.506285 ', '1.521801')  \n",
       "4  ('-11.202692 ', '17.873887')  \n",
       "\n",
       "[5 rows x 36 columns]"
      ]
     },
     "execution_count": 4,
     "metadata": {},
     "output_type": "execute_result"
    }
   ],
   "source": [
    "df = pd.read_csv(\"World-Data-Unidas.csv\")\n",
    "df.head(5)"
   ]
  },
  {
   "cell_type": "code",
   "execution_count": null,
   "metadata": {},
   "outputs": [],
   "source": [
    "df= df.rename (columns= {'Land Area(Km2)':'land_area', 'Armed Forces size':'armed_forces_siz', 'Co2-Emissions':'co2-emissions', 'GDP' : 'gdp', 'Population' : 'population', 'Urban_population' : 'urban_population', 'latitude', 'longitude', 'density', 'cpi'})"
   ]
  },
  {
   "cell_type": "code",
   "execution_count": 2,
   "metadata": {},
   "outputs": [],
   "source": [
    "columnas_convertir = ['land_area', 'armed_forces_siz', 'co2-emissions', 'gdp', 'population', 'urban_population', 'latitude', 'longitude', 'density', 'cpi']"
   ]
  },
  {
   "cell_type": "code",
   "execution_count": null,
   "metadata": {},
   "outputs": [],
   "source": [
    "def convertir_a_numero ()"
   ]
>>>>>>> dba243082b2c7c4da7ec0703b937d72406473637
  },
  {
   "cell_type": "markdown",
   "metadata": {},
   "source": [
    "2. **Añadir columna 'Continent'**:\n",
    "    Crea una función para añadir una nueva columna llamada 'Continent' al DataFrame para indicar a qué continente pertenece cada país."
   ]
  },
  {
   "cell_type": "code",
   "execution_count": null,
   "metadata": {},
   "outputs": [],
   "source": []
  },
  {
   "cell_type": "markdown",
   "metadata": {},
   "source": [
    "3. **Guardar el DataFrame después de los cambios**:\n",
    "    Guarda el DataFrame después de los cambios creados después de los dos ejercicios anteriores para usarlo en el pairprogramming de mañana."
   ]
  },
  {
   "cell_type": "code",
   "execution_count": null,
   "metadata": {},
   "outputs": [],
   "source": []
  },
  {
   "cell_type": "markdown",
   "metadata": {},
   "source": [
    "## Ejercicios `groupby`\n",
    "\n",
    "1. **Densidad de población promedio por continente**:\n",
    "    ¿Cuál es la densidad de población promedio por continente?"
   ]
  },
  {
   "cell_type": "code",
   "execution_count": null,
   "metadata": {},
   "outputs": [],
   "source": []
  },
  {
   "cell_type": "markdown",
   "metadata": {},
   "source": [
    "\n",
    "2. **Esperanza de vida promedio por idioma oficial**:\n",
    "    ¿Cuál es la esperanza de vida promedio por idioma oficial? Agrupa los países por idioma oficial y calcula la esperanza de vida promedio."
   ]
  },
  {
   "cell_type": "code",
   "execution_count": null,
   "metadata": {},
   "outputs": [],
   "source": []
  },
  {
   "cell_type": "markdown",
   "metadata": {},
   "source": [
    "3. **Tasa de mortalidad infantil promedio por moneda**:\n",
    "    ¿Cuál es la tasa de mortalidad infantil promedio por moneda?"
   ]
  },
  {
   "cell_type": "code",
   "execution_count": null,
   "metadata": {},
   "outputs": [],
   "source": []
  },
  {
   "cell_type": "markdown",
   "metadata": {},
   "source": [
    "4. **Salario mínimo por continente**:\n",
    "    ¿Cuál es el salario mínimo por continente?"
   ]
  },
  {
   "cell_type": "code",
   "execution_count": null,
   "metadata": {},
   "outputs": [],
   "source": []
  },
  {
   "cell_type": "markdown",
   "metadata": {},
   "source": [
    "5. **Tasa de impuestos total máxima por densidad de población por continente**:\n",
    "    ¿Cuál es la tasa de impuestos total máxima por densidad de población por continente?"
   ]
  },
  {
   "cell_type": "code",
   "execution_count": null,
   "metadata": {},
   "outputs": [],
   "source": []
  },
  {
   "cell_type": "markdown",
   "metadata": {},
   "source": [
    "6. **Porcentaje de población urbana promedio por continente**:\n",
    "    ¿Cuál es el porcentaje de población urbana promedio por continente?"
   ]
  },
  {
   "cell_type": "code",
   "execution_count": null,
   "metadata": {},
   "outputs": [],
   "source": []
  },
  {
   "cell_type": "markdown",
   "metadata": {},
   "source": [
    "7. **Diferencia entre el PIB promedio y el gasto en salud de bolsillo promedio por idioma oficial**:\n",
    "    ¿Cuál es la diferencia entre el PIB promedio y el gasto en salud de bolsillo promedio por idioma oficial? Para contestar esta pregunta debes seguir los siguientes pasos:\n",
    "    \n",
    "    - Agrupa el DataFrame por idioma oficial y calcula la media del Gasto de Bolsillo en salud (`out_of_pocket_health_expenditure`) y del PIB (`gdp`).\n",
    "    - Calcula la diferencia entre el PIB promedio y el gasto en salud de bolsillo promedio."
   ]
  },
  {
   "cell_type": "code",
   "execution_count": null,
   "metadata": {},
   "outputs": [],
   "source": []
  },
  {
   "cell_type": "markdown",
   "metadata": {},
   "source": [
    "8. **Tasa de maternidad promedio por tasa de impuestos total**:\n",
    "    ¿Cuál es la tasa de maternidad promedio por tasa de impuestos total? Para resolver el ejercicio deberás:\n",
    "    \n",
    "    - Primero, calcula la tasa de maternidad promedio para cada continente. Puedes usar la columna `maternal_mortality_ratio` que representa la tasa de mortalidad materna.\n",
    "    - Calcula la tasa de impuestos total promedio para cada continente. Puedes usar la columna `total_tax_rate` que representa la tasa de impuestos total en cada continente.\n",
    "    - Luego, divide la tasa de maternidad promedio por la tasa de impuestos total promedio para obtener la relación entre ambas tasas.\n",
    "    - Encuentra el país con la tasa de maternidad más alta por punto porcentual de tasa de impuestos total."
   ]
  },
  {
   "cell_type": "code",
   "execution_count": null,
   "metadata": {},
   "outputs": [],
   "source": []
  },
  {
   "cell_type": "markdown",
   "metadata": {},
   "source": [
    "## Ejercicios bonus `groupby`\n",
    "\n",
    "1. **Tasa de natalidad máxima por área forestal por continente**:\n",
    "    ¿Cuál es la tasa de natalidad máxima por área forestal por continente? Encuentra el país con la tasa de natalidad más alta por cada punto porcentual de área forestal."
   ]
  },
  {
   "cell_type": "code",
   "execution_count": null,
   "metadata": {},
   "outputs": [],
   "source": []
  },
  {
   "cell_type": "markdown",
   "metadata": {},
   "source": [
    "2. **Diferencia entre la tasa de impuestos total y la tasa de desempleo promedio por continente**:\n",
    "    ¿Cuál es la diferencia entre la tasa de impuestos total y la tasa de desempleo promedio por continente?   "
   ]
  },
  {
   "cell_type": "code",
   "execution_count": null,
   "metadata": {},
   "outputs": [],
   "source": []
  }
 ],
 "metadata": {
  "kernelspec": {
   "display_name": "base",
   "language": "python",
   "name": "python3"
  },
  "language_info": {
   "codemirror_mode": {
    "name": "ipython",
    "version": 3
   },
   "file_extension": ".py",
   "mimetype": "text/x-python",
   "name": "python",
   "nbconvert_exporter": "python",
   "pygments_lexer": "ipython3",
<<<<<<< HEAD
   "version": "3.9.7"
=======
   "version": "3.9.12"
>>>>>>> dba243082b2c7c4da7ec0703b937d72406473637
  }
 },
 "nbformat": 4,
 "nbformat_minor": 2
}
