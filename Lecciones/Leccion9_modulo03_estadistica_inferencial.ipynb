{
 "cells": [
  {
   "cell_type": "code",
   "execution_count": 2,
   "metadata": {},
   "outputs": [],
   "source": [
    "import pandas as pd\n",
    "import numpy as np\n",
    "from sklearn.impute import SimpleImputer\n",
    "import seaborn as sns\n",
    "import matplotlib.pyplot as plt\n",
    "from scipy.stats import norm\n",
    "\n",
    "\n"
   ]
  },
  {
   "cell_type": "markdown",
   "metadata": {},
   "source": [
    "Pair Estadística Inferencial\n",
    "Ejercicios estadística inferencial\n",
    "\n",
    "Igual que en los ejercicios de la clase invertida, evalúa si las siguientes afirmaciones corresponden a una distribución exponencial o poisson.\n"
   ]
  },
  {
   "cell_type": "markdown",
   "metadata": {},
   "source": [
    "\n",
    "¿El tiempo que transcurre entre la llegada de autobuses a una parada sigue una distribución exponencial o de Poisson?\n"
   ]
  },
  {
   "cell_type": "markdown",
   "metadata": {},
   "source": [
    "Sigue una distribución exponencial ya que se refiere a la cantidad de tiempo transcurrido hasta que algún autobús llega a una parada."
   ]
  },
  {
   "cell_type": "markdown",
   "metadata": {},
   "source": [
    "\n",
    "¿El tiempo que transcurre entre la llegada de solicitudes de servicio en un restaurante sigue una distribución exponencial o de Poisson?\n"
   ]
  },
  {
   "cell_type": "markdown",
   "metadata": {},
   "source": [
    "Sigue una distribución exponencial ya que se refiere a la cantidad de tiempo transcurrido hasta que algún servicio llega a un restaurante."
   ]
  },
  {
   "cell_type": "markdown",
   "metadata": {},
   "source": [
    "\n",
    "¿El tiempo que transcurre entre la llegada de taxis en una parada sigue una distribución exponencial o de Poisson?\n"
   ]
  },
  {
   "cell_type": "markdown",
   "metadata": {},
   "source": [
    "Sigue una distribución exponencial ya que se refiere a la cantidad de tiempo transcurrido hasta que algún taxi llega a una parada."
   ]
  },
  {
   "cell_type": "markdown",
   "metadata": {},
   "source": [
    "\n",
    "¿El número de errores de ortografía en un libro de texto sigue una distribución exponencial o de Poisson?\n"
   ]
  },
  {
   "cell_type": "markdown",
   "metadata": {},
   "source": [
    "Sigue una distribución de tipo Poisson porque hace referencia a la cantidad de errores ortográficos en un texto dado."
   ]
  },
  {
   "cell_type": "markdown",
   "metadata": {},
   "source": [
    "\n",
    "Ejercicios intervalo de confianza. Al igual que en el caso del ejercicio de la clase invertida, piensa un motivo por el que sería interesante calcular estos intervalos de confianza para la extracción de insights.\n",
    "\n",
    "Intervalo de Confianza para la Esperanza de Vida\n",
    "\n",
    "Contexto: Trabajas en una organización de salud global y deseas estimar el intervalo de confianza al 95% para la esperanza de vida promedio de cada continente.\n",
    "\n",
    "Nota: Cuidado porque puede que os salgan algunos nulos, genera un código para que no salgan nulos en los intervalos de confianza.\n",
    "\n",
    "Intervalo de Confianza para el PIB\n",
    "\n",
    "Contexto: Eres una economista y quieres calcular el intervalo de confianza al 90% para el Producto Interno Bruto (PIB) de los continentes.\n"
   ]
  },
  {
   "cell_type": "code",
   "execution_count": 6,
   "metadata": {},
   "outputs": [],
   "source": [
    "np.random.seed(42)\n",
    "data = {\"continentes\" : [\"america\", \"asia\", \"europa\", \"africa\", \"oceania\"] * 20, \n",
    "        \"esperanza_de_vida\": np.concatenate([\n",
    "    np.random.normal(70, 5, 20), # Generar 20 valores para Asia con promedio 70 y desviación 5\n",
    "    np.random.normal(80, 4, 20), # Generar 20 valores para Europa con promedio 80 y desviación 4 \n",
    "    np.random.normal(60, 6, 20), # Generar 20 valores para África con promedio 60 y desviación 6 \n",
    "    np.random.normal(75, 5, 20), # Generar 20 valores para América con promedio 75 y desviación 5 \n",
    "    np.random.normal(78, 3, 20) # Generar 20 valores para Oceanía con promedio 78 y desviación 3\n",
    "    ]) } \n"
   ]
  },
  {
   "cell_type": "code",
   "execution_count": 8,
   "metadata": {},
   "outputs": [
    {
     "data": {
      "text/html": [
       "<div>\n",
       "<style scoped>\n",
       "    .dataframe tbody tr th:only-of-type {\n",
       "        vertical-align: middle;\n",
       "    }\n",
       "\n",
       "    .dataframe tbody tr th {\n",
       "        vertical-align: top;\n",
       "    }\n",
       "\n",
       "    .dataframe thead th {\n",
       "        text-align: right;\n",
       "    }\n",
       "</style>\n",
       "<table border=\"1\" class=\"dataframe\">\n",
       "  <thead>\n",
       "    <tr style=\"text-align: right;\">\n",
       "      <th></th>\n",
       "      <th>continentes</th>\n",
       "      <th>esperanza_de_vida</th>\n",
       "    </tr>\n",
       "  </thead>\n",
       "  <tbody>\n",
       "    <tr>\n",
       "      <th>0</th>\n",
       "      <td>america</td>\n",
       "      <td>72.483571</td>\n",
       "    </tr>\n",
       "    <tr>\n",
       "      <th>1</th>\n",
       "      <td>asia</td>\n",
       "      <td>69.308678</td>\n",
       "    </tr>\n",
       "    <tr>\n",
       "      <th>2</th>\n",
       "      <td>europa</td>\n",
       "      <td>73.238443</td>\n",
       "    </tr>\n",
       "    <tr>\n",
       "      <th>3</th>\n",
       "      <td>africa</td>\n",
       "      <td>77.615149</td>\n",
       "    </tr>\n",
       "    <tr>\n",
       "      <th>4</th>\n",
       "      <td>oceania</td>\n",
       "      <td>68.829233</td>\n",
       "    </tr>\n",
       "    <tr>\n",
       "      <th>...</th>\n",
       "      <td>...</td>\n",
       "      <td>...</td>\n",
       "    </tr>\n",
       "    <tr>\n",
       "      <th>95</th>\n",
       "      <td>america</td>\n",
       "      <td>73.609455</td>\n",
       "    </tr>\n",
       "    <tr>\n",
       "      <th>96</th>\n",
       "      <td>asia</td>\n",
       "      <td>78.888361</td>\n",
       "    </tr>\n",
       "    <tr>\n",
       "      <th>97</th>\n",
       "      <td>europa</td>\n",
       "      <td>78.783166</td>\n",
       "    </tr>\n",
       "    <tr>\n",
       "      <th>98</th>\n",
       "      <td>africa</td>\n",
       "      <td>78.015340</td>\n",
       "    </tr>\n",
       "    <tr>\n",
       "      <th>99</th>\n",
       "      <td>oceania</td>\n",
       "      <td>77.296239</td>\n",
       "    </tr>\n",
       "  </tbody>\n",
       "</table>\n",
       "<p>100 rows × 2 columns</p>\n",
       "</div>"
      ],
      "text/plain": [
       "   continentes  esperanza_de_vida\n",
       "0      america          72.483571\n",
       "1         asia          69.308678\n",
       "2       europa          73.238443\n",
       "3       africa          77.615149\n",
       "4      oceania          68.829233\n",
       "..         ...                ...\n",
       "95     america          73.609455\n",
       "96        asia          78.888361\n",
       "97      europa          78.783166\n",
       "98      africa          78.015340\n",
       "99     oceania          77.296239\n",
       "\n",
       "[100 rows x 2 columns]"
      ]
     },
     "execution_count": 8,
     "metadata": {},
     "output_type": "execute_result"
    }
   ],
   "source": [
    "df = pd.DataFrame(data)\n",
    "df"
   ]
  },
  {
   "cell_type": "code",
   "execution_count": 13,
   "metadata": {},
   "outputs": [
    {
     "name": "stdout",
     "output_type": "stream",
     "text": [
      "Intervalo de confianza del 95%: (70.49394300442485, 73.7824033032005)\n"
     ]
    }
   ],
   "source": [
    "import pandas as pd\n",
    "import numpy as np\n",
    "from scipy import stats\n",
    "# Crear datos sintéticos\n",
    "np.random.seed(42)  # Fijar semilla para reproducibilidad\n",
    "data = {\n",
    "    'continente': ['Asia', 'Europa', 'África', 'América', 'Oceanía'] * 20,  # Lista de continentes repetidos 20 veces cada uno\n",
    "    'esperanza_de_vida': np.concatenate([\n",
    "        np.random.normal(70, 5, 20),  # Generar 20 valores para Asia con promedio 70 y desviación 5\n",
    "        np.random.normal(80, 4, 20),  # Generar 20 valores para Europa con promedio 80 y desviación 4\n",
    "        np.random.normal(60, 6, 20),  # Generar 20 valores para África con promedio 60 y desviación 6\n",
    "        np.random.normal(75, 5, 20),  # Generar 20 valores para América con promedio 75 y desviación 5\n",
    "        np.random.normal(78, 3, 20)   # Generar 20 valores para Oceanía con promedio 78 y desviación 3\n",
    "    ])\n",
    "}\n",
    "df = pd.DataFrame(data)  # Crear un DataFrame con los datos\n",
    "# Asegurarse de que no hay valores nulos\n",
    "df = df.dropna(subset=['continente', 'esperanza_de_vida'])  # Eliminar filas con valores nulos en las columnas especificadas\n",
    "# Calcular la esperanza de vida promedio y la desviación estándar por continente\n",
    "estadisticas = df.groupby('continente')['esperanza_de_vida'].agg(['mean', 'std', 'count']).reset_index()  # Calcular media, desviación estándar y cantidad por continente\n",
    "estadisticas = estadisticas.rename(columns={'mean': 'media', 'std': 'desviacion_std', 'count': 'n'})  # Renombrar columnas para claridad\n",
    "# Calcular el intervalo de confianza al 95%\n",
    "confianza = 0.95  # Establecer el nivel de confianza\n",
    "media = np.mean(df['esperanza_de_vida'])  # Calcular la media de la esperanza de vida\n",
    "error_estandar = stats.sem(df['esperanza_de_vida'])  # Calcular el error estándar de la media\n",
    "# Calcular el intervalo de confianza\n",
    "intervalo = error_estandar * stats.t.ppf((1 + confianza) / 2., len(df) - 1)  # Calcular el margen de error\n",
    "intervalo_confianza = (media - intervalo, media + intervalo)  # Calcular el intervalo de confianza\n",
    "print(f\"Intervalo de confianza del 95%: {intervalo_confianza}\")  # Imprimir el intervalo de confianza\n"
   ]
  },
  {
   "cell_type": "code",
   "execution_count": 20,
   "metadata": {},
   "outputs": [
    {
     "name": "stdout",
     "output_type": "stream",
     "text": [
      "Intervalo de confianza del 95%: (27435.000566162744, 41241.345741462654)\n"
     ]
    }
   ],
   "source": [
    "np.random.seed(42)\n",
    "data_pbi = {\"continentes\" : [\"america\", \"asia\", \"europa\", \"africa\", \"oceania\"] * 20, \n",
    "        \"pbi\": np.concatenate([\n",
    "    np.random.normal(7000, 5000, 20), # Generar 20 valores para Asia con promedio 70 y desviación 5\n",
    "    np.random.normal(8000, 4000, 20), # Generar 20 valores para Europa con promedio 80 y desviación 4 \n",
    "    np.random.normal(6000, 6000, 20), # Generar 20 valores para África con promedio 60 y desviación 6 \n",
    "    np.random.normal(75000, 5000, 20), # Generar 20 valores para América con promedio 75 y desviación 5 \n",
    "    np.random.normal(78000, 3000, 20) # Generar 20 valores para Oceanía con promedio 78 y desviación 3\n",
    "    ]) } \n",
    "\n",
    "df_pbi = pd.DataFrame(data_pbi)  # Crear un DataFrame con los datos\n",
    "# Asegurarse de que no hay valores nulos\n",
    "df_pbi = df_pbi.dropna(subset=['continentes', 'pbi'])  # Eliminar filas con valores nulos en las columnas especificadas\n",
    "# Calcular la esperanza de vida promedio y la desviación estándar por continente\n",
    "estadisticas = df_pbi.groupby('continentes')['pbi'].agg(['mean', 'std', 'count']).reset_index()  # Calcular media, desviación estándar y cantidad por continente\n",
    "estadisticas = estadisticas.rename(columns={'mean': 'media', 'std': 'desviacion_std', 'count': 'n'})  # Renombrar columnas para claridad\n",
    "# Calcular el intervalo de confianza al 95%\n",
    "confianza = 0.95  # Establecer el nivel de confianza\n",
    "media = np.mean(df_pbi['pbi'])  # Calcular la media de la esperanza de vida\n",
    "error_estandar = stats.sem(df_pbi['pbi'])  # Calcular el error estándar de la media\n",
    "# Calcular el intervalo de confianza\n",
    "intervalo = error_estandar * stats.t.ppf((1 + confianza) / 2., len(df) - 1)  # Calcular el margen de error\n",
    "intervalo_confianza = (media - intervalo, media + intervalo)  # Calcular el intervalo de confianza\n",
    "print(f\"Intervalo de confianza del 95%: {intervalo_confianza}\")  # Imprimir el intervalo de confianza"
   ]
  },
  {
   "cell_type": "code",
   "execution_count": 22,
   "metadata": {},
   "outputs": [
    {
     "ename": "NameError",
     "evalue": "name 'estadisticas_vida' is not defined",
     "output_type": "error",
     "traceback": [
      "\u001b[0;31m---------------------------------------------------------------------------\u001b[0m",
      "\u001b[0;31mNameError\u001b[0m                                 Traceback (most recent call last)",
      "\u001b[0;32m/tmp/ipykernel_11144/2140076065.py\u001b[0m in \u001b[0;36m<module>\u001b[0;34m\u001b[0m\n\u001b[1;32m      1\u001b[0m \u001b[0;31m# Unir los dos DataFrames en base a la columna 'continente'\u001b[0m\u001b[0;34m\u001b[0m\u001b[0;34m\u001b[0m\u001b[0m\n\u001b[0;32m----> 2\u001b[0;31m \u001b[0mdf_final\u001b[0m \u001b[0;34m=\u001b[0m \u001b[0mpd\u001b[0m\u001b[0;34m.\u001b[0m\u001b[0mmerge\u001b[0m\u001b[0;34m(\u001b[0m\u001b[0mestadisticas_vida\u001b[0m\u001b[0;34m,\u001b[0m \u001b[0mestadisticas_pib\u001b[0m\u001b[0;34m,\u001b[0m \u001b[0mon\u001b[0m\u001b[0;34m=\u001b[0m\u001b[0;34m'continentes'\u001b[0m\u001b[0;34m)\u001b[0m\u001b[0;34m\u001b[0m\u001b[0;34m\u001b[0m\u001b[0m\n\u001b[0m",
      "\u001b[0;31mNameError\u001b[0m: name 'estadisticas_vida' is not defined"
     ]
    }
   ],
   "source": [
    "# Unir los dos DataFrames en base a la columna 'continente' \n",
    "df_final = pd.merge(estadisticas_vida, estadisticas_pib, on='continentes')"
   ]
  },
  {
   "cell_type": "markdown",
   "metadata": {},
   "source": [
    "\n",
    "Bonus\n",
    "Intervalo de Confianza para la Tasa de Natalidad\n",
    "\n",
    "Contexto: Trabajas en una agencia gubernamental que se ocupa de cuestiones demográficas y deseas determinar el intervalo de confianza al 99% para la tasa de natalidad promedio en Asia.\n",
    "\n",
    "Intervalo de Confianza para la Tasa de Desempleo\n",
    "\n",
    "Contexto: Eres un analista de políticas públicas y deseas calcular el intervalo de confianza al 95% para la tasa de desempleo promedio en los países de Oceanía.\n",
    "\n",
    "Intervalo de Confianza para la Tasa de Impuestos\n",
    "\n",
    "Contexto: Trabajas en un ministerio de finanzas y deseas estimar el intervalo de confianza al 90% para la tasa de impuestos promedio en los países de África."
   ]
  },
  {
   "cell_type": "code",
   "execution_count": null,
   "metadata": {},
   "outputs": [],
   "source": []
  }
 ],
 "metadata": {
  "kernelspec": {
   "display_name": "base",
   "language": "python",
   "name": "python3"
  },
  "language_info": {
   "codemirror_mode": {
    "name": "ipython",
    "version": 3
   },
   "file_extension": ".py",
   "mimetype": "text/x-python",
   "name": "python",
   "nbconvert_exporter": "python",
   "pygments_lexer": "ipython3",
   "version": "3.9.7"
  }
 },
 "nbformat": 4,
 "nbformat_minor": 2
}
