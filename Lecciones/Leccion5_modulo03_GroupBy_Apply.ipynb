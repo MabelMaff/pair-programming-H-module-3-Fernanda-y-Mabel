{
 "cells": [
  {
   "cell_type": "markdown",
   "metadata": {},
   "source": [
    "# Ejercicios `apply` y `groupby`\n",
    "\n",
    "## Ejercicios `apply`\n",
    "\n",
    "1. **Convertir columnas a tipo numérico**:\n",
    "    Las columnas `land_area`, `armed_forces_size`, `co2-emissions`, `gdp`, `population`, `urban_population`, `latitude`, `longitude`, `density`, `cpi` son de tipo `object` pero en realidad deberían ser numéricas. Crea una función que nos permita cambiar el tipo de dato de estas columnas al que le corresponde."
   ]
  },
  {
   "cell_type": "code",
   "execution_count": 9,
   "metadata": {},
   "outputs": [],
   "source": [
    "import pandas as pd"
   ]
  },
  {
   "cell_type": "code",
<<<<<<< HEAD:Lecciones/Leccion5_modulo03_GroupBy_Apply.ipynb
   "execution_count": 10,
=======
<<<<<<< HEAD
   "execution_count": null,
   "metadata": {},
   "outputs": [],
   "source": []
=======
   "execution_count": 4,
>>>>>>> 88cad33499b52e5aa448ed1eab3542165736656c:Lecciones/Leccion5_modulo03_GorupBy_Apply.ipynb
   "metadata": {},
   "outputs": [
    {
     "data": {
      "text/html": [
       "<div>\n",
       "<style scoped>\n",
       "    .dataframe tbody tr th:only-of-type {\n",
       "        vertical-align: middle;\n",
       "    }\n",
       "\n",
       "    .dataframe tbody tr th {\n",
       "        vertical-align: top;\n",
       "    }\n",
       "\n",
       "    .dataframe thead th {\n",
       "        text-align: right;\n",
       "    }\n",
       "</style>\n",
       "<table border=\"1\" class=\"dataframe\">\n",
       "  <thead>\n",
       "    <tr style=\"text-align: right;\">\n",
       "      <th></th>\n",
       "      <th>unnamed0</th>\n",
       "      <th>country</th>\n",
       "      <th>density\\r\\np</th>\n",
       "      <th>abbreviation</th>\n",
       "      <th>agriculturalland</th>\n",
       "      <th>landarea</th>\n",
       "      <th>armedforcessize</th>\n",
       "      <th>birthrate</th>\n",
       "      <th>callingcode</th>\n",
       "      <th>capitalmajorcity</th>\n",
       "      <th>...</th>\n",
       "      <th>outofpockethealthexpenditure</th>\n",
       "      <th>physiciansperthousand</th>\n",
       "      <th>population</th>\n",
       "      <th>populationlaborforceparticipation</th>\n",
       "      <th>taxrevenue</th>\n",
       "      <th>totaltaxrate</th>\n",
       "      <th>unemploymentrate</th>\n",
       "      <th>urban_population</th>\n",
       "      <th>latitud</th>\n",
       "      <th>longitud</th>\n",
       "    </tr>\n",
       "  </thead>\n",
       "  <tbody>\n",
       "    <tr>\n",
       "      <th>0</th>\n",
       "      <td>0</td>\n",
       "      <td>Afghanistan</td>\n",
       "      <td>60</td>\n",
       "      <td>AF</td>\n",
       "      <td>58.1</td>\n",
       "      <td>652,230</td>\n",
       "      <td>323,000</td>\n",
       "      <td>32.49</td>\n",
       "      <td>93.0</td>\n",
       "      <td>Kabul</td>\n",
       "      <td>...</td>\n",
       "      <td>78.4</td>\n",
       "      <td>0.28</td>\n",
       "      <td>38,041,754</td>\n",
       "      <td>48.9</td>\n",
       "      <td>9.3</td>\n",
       "      <td>71.4</td>\n",
       "      <td>11.12</td>\n",
       "      <td>9,797,273</td>\n",
       "      <td>('33.93911 '</td>\n",
       "      <td>'67.709953')</td>\n",
       "    </tr>\n",
       "    <tr>\n",
       "      <th>1</th>\n",
       "      <td>1</td>\n",
       "      <td>Albania</td>\n",
       "      <td>105</td>\n",
       "      <td>AL</td>\n",
       "      <td>43.1</td>\n",
       "      <td>28,748</td>\n",
       "      <td>9,000</td>\n",
       "      <td>11.78</td>\n",
       "      <td>355.0</td>\n",
       "      <td>Tirana</td>\n",
       "      <td>...</td>\n",
       "      <td>56.9</td>\n",
       "      <td>1.20</td>\n",
       "      <td>2,854,191</td>\n",
       "      <td>55.7</td>\n",
       "      <td>18.6</td>\n",
       "      <td>36.6</td>\n",
       "      <td>12.33</td>\n",
       "      <td>1,747,593</td>\n",
       "      <td>('41.153332 '</td>\n",
       "      <td>'20.168331')</td>\n",
       "    </tr>\n",
       "    <tr>\n",
       "      <th>2</th>\n",
       "      <td>2</td>\n",
       "      <td>Algeria</td>\n",
       "      <td>18</td>\n",
       "      <td>DZ</td>\n",
       "      <td>17.4</td>\n",
       "      <td>2,381,741</td>\n",
       "      <td>317,000</td>\n",
       "      <td>24.28</td>\n",
       "      <td>213.0</td>\n",
       "      <td>Algiers</td>\n",
       "      <td>...</td>\n",
       "      <td>28.1</td>\n",
       "      <td>1.72</td>\n",
       "      <td>43,053,054</td>\n",
       "      <td>41.2</td>\n",
       "      <td>37.2</td>\n",
       "      <td>66.1</td>\n",
       "      <td>11.70</td>\n",
       "      <td>31,510,100</td>\n",
       "      <td>('28.033886 '</td>\n",
       "      <td>'1.659626')</td>\n",
       "    </tr>\n",
       "    <tr>\n",
       "      <th>3</th>\n",
       "      <td>3</td>\n",
       "      <td>Andorra</td>\n",
       "      <td>164</td>\n",
       "      <td>AD</td>\n",
       "      <td>40.0</td>\n",
       "      <td>468</td>\n",
       "      <td>NaN</td>\n",
       "      <td>7.20</td>\n",
       "      <td>376.0</td>\n",
       "      <td>Andorra la Vella</td>\n",
       "      <td>...</td>\n",
       "      <td>36.4</td>\n",
       "      <td>3.33</td>\n",
       "      <td>77,142</td>\n",
       "      <td>NaN</td>\n",
       "      <td>NaN</td>\n",
       "      <td>NaN</td>\n",
       "      <td>NaN</td>\n",
       "      <td>67,873</td>\n",
       "      <td>('42.506285 '</td>\n",
       "      <td>'1.521801')</td>\n",
       "    </tr>\n",
       "    <tr>\n",
       "      <th>4</th>\n",
       "      <td>4</td>\n",
       "      <td>Angola</td>\n",
       "      <td>26</td>\n",
       "      <td>AO</td>\n",
       "      <td>47.5</td>\n",
       "      <td>1,246,700</td>\n",
       "      <td>117,000</td>\n",
       "      <td>40.73</td>\n",
       "      <td>244.0</td>\n",
       "      <td>Luanda</td>\n",
       "      <td>...</td>\n",
       "      <td>33.4</td>\n",
       "      <td>0.21</td>\n",
       "      <td>31,825,295</td>\n",
       "      <td>77.5</td>\n",
       "      <td>9.2</td>\n",
       "      <td>49.1</td>\n",
       "      <td>6.89</td>\n",
       "      <td>21,061,025</td>\n",
       "      <td>('-11.202692 '</td>\n",
       "      <td>'17.873887')</td>\n",
       "    </tr>\n",
       "  </tbody>\n",
       "</table>\n",
       "<p>5 rows × 36 columns</p>\n",
       "</div>"
      ],
      "text/plain": [
       "   unnamed0      country density\\r\\np abbreviation  agriculturalland  \\\n",
       "0         0  Afghanistan           60           AF              58.1   \n",
       "1         1      Albania          105           AL              43.1   \n",
       "2         2      Algeria           18           DZ              17.4   \n",
       "3         3      Andorra          164           AD              40.0   \n",
       "4         4       Angola           26           AO              47.5   \n",
       "\n",
       "    landarea armedforcessize  birthrate  callingcode  capitalmajorcity  ...  \\\n",
       "0    652,230         323,000      32.49         93.0             Kabul  ...   \n",
       "1     28,748           9,000      11.78        355.0            Tirana  ...   \n",
       "2  2,381,741         317,000      24.28        213.0           Algiers  ...   \n",
       "3        468             NaN       7.20        376.0  Andorra la Vella  ...   \n",
       "4  1,246,700         117,000      40.73        244.0            Luanda  ...   \n",
       "\n",
       "  outofpockethealthexpenditure physiciansperthousand  population  \\\n",
       "0                         78.4                  0.28  38,041,754   \n",
       "1                         56.9                  1.20   2,854,191   \n",
       "2                         28.1                  1.72  43,053,054   \n",
       "3                         36.4                  3.33      77,142   \n",
       "4                         33.4                  0.21  31,825,295   \n",
       "\n",
       "  populationlaborforceparticipation  taxrevenue  totaltaxrate  \\\n",
       "0                              48.9         9.3          71.4   \n",
       "1                              55.7        18.6          36.6   \n",
       "2                              41.2        37.2          66.1   \n",
       "3                               NaN         NaN           NaN   \n",
       "4                              77.5         9.2          49.1   \n",
       "\n",
       "   unemploymentrate urban_population         latitud       longitud  \n",
       "0             11.12        9,797,273    ('33.93911 '   '67.709953')  \n",
       "1             12.33        1,747,593   ('41.153332 '   '20.168331')  \n",
       "2             11.70       31,510,100   ('28.033886 '    '1.659626')  \n",
       "3               NaN           67,873   ('42.506285 '    '1.521801')  \n",
       "4              6.89       21,061,025  ('-11.202692 '   '17.873887')  \n",
       "\n",
       "[5 rows x 36 columns]"
      ]
     },
     "execution_count": 10,
     "metadata": {},
     "output_type": "execute_result"
    }
   ],
   "source": [
    "df = pd.read_csv(\"World-Data-Unidas-Limpio.csv\")\n",
    "df.head(5)"
   ]
  },
  {
   "cell_type": "code",
   "execution_count": 14,
   "metadata": {},
   "outputs": [
    {
     "data": {
      "text/plain": [
       "Index(['unnamed0', 'country', 'density\\r\\np', 'abbreviation',\n",
       "       'agriculturalland', 'landarea', 'armedforcessize', 'birthrate',\n",
       "       'callingcode', 'capitalmajorcity', 'co2-emissions', 'cpi', 'cpichange',\n",
       "       'currency-code', 'fertilityrate', 'forestedarea', 'gasolineprice',\n",
       "       'gdp', 'grossprimaryeducationenrollment',\n",
       "       'grosstertiaryeducationenrollment', 'infantmortality', 'largestcity',\n",
       "       'lifeexpectancy', 'maternalmortalityratio', 'minimumwage',\n",
       "       'officiallanguage', 'outofpockethealthexpenditure',\n",
       "       'physiciansperthousand', 'population',\n",
       "       'populationlaborforceparticipation', 'taxrevenue', 'totaltaxrate',\n",
       "       'unemploymentrate', 'urban_population', 'latitud', 'longitud'],\n",
       "      dtype='object')"
      ]
     },
     "execution_count": 14,
     "metadata": {},
     "output_type": "execute_result"
    }
   ],
   "source": [
    "df.columns"
   ]
  },
  {
   "cell_type": "code",
   "execution_count": 15,
   "metadata": {},
   "outputs": [],
   "source": [
    "columnas = ['landarea', 'armedforcessize','co2-emissions', 'gdp', 'population',\n",
    "       'urban_population', 'latitud', 'longitud', 'density\\r\\np', 'cpi']\n",
    "\n",
    "for columna in columnas:\n",
    "        df[columna] = df[columna].apply(lambda x: pd.to_numeric(x, errors='coerce'))"
   ]
>>>>>>> dba243082b2c7c4da7ec0703b937d72406473637
  },
  {
   "cell_type": "markdown",
   "metadata": {},
   "source": [
    "2. **Añadir columna 'Continent'**:\n",
    "    Crea una función para añadir una nueva columna llamada 'Continent' al DataFrame para indicar a qué continente pertenece cada país."
   ]
  },
  {
   "cell_type": "code",
   "execution_count": null,
   "metadata": {},
   "outputs": [],
   "source": []
  },
  {
   "cell_type": "markdown",
   "metadata": {},
   "source": [
    "3. **Guardar el DataFrame después de los cambios**:\n",
    "    Guarda el DataFrame después de los cambios creados después de los dos ejercicios anteriores para usarlo en el pairprogramming de mañana."
   ]
  },
  {
   "cell_type": "code",
   "execution_count": null,
   "metadata": {},
   "outputs": [],
   "source": []
  },
  {
   "cell_type": "markdown",
   "metadata": {},
   "source": [
    "## Ejercicios `groupby`\n",
    "\n",
    "1. **Densidad de población promedio por continente**:\n",
    "    ¿Cuál es la densidad de población promedio por continente?"
   ]
  },
  {
   "cell_type": "code",
   "execution_count": null,
   "metadata": {},
   "outputs": [],
   "source": []
  },
  {
   "cell_type": "markdown",
   "metadata": {},
   "source": [
    "\n",
    "2. **Esperanza de vida promedio por idioma oficial**:\n",
    "    ¿Cuál es la esperanza de vida promedio por idioma oficial? Agrupa los países por idioma oficial y calcula la esperanza de vida promedio."
   ]
  },
  {
   "cell_type": "code",
   "execution_count": null,
   "metadata": {},
   "outputs": [],
   "source": []
  },
  {
   "cell_type": "markdown",
   "metadata": {},
   "source": [
    "3. **Tasa de mortalidad infantil promedio por moneda**:\n",
    "    ¿Cuál es la tasa de mortalidad infantil promedio por moneda?"
   ]
  },
  {
   "cell_type": "code",
   "execution_count": null,
   "metadata": {},
   "outputs": [],
   "source": []
  },
  {
   "cell_type": "markdown",
   "metadata": {},
   "source": [
    "4. **Salario mínimo por continente**:\n",
    "    ¿Cuál es el salario mínimo por continente?"
   ]
  },
  {
   "cell_type": "code",
   "execution_count": null,
   "metadata": {},
   "outputs": [],
   "source": []
  },
  {
   "cell_type": "markdown",
   "metadata": {},
   "source": [
    "5. **Tasa de impuestos total máxima por densidad de población por continente**:\n",
    "    ¿Cuál es la tasa de impuestos total máxima por densidad de población por continente?"
   ]
  },
  {
   "cell_type": "code",
   "execution_count": null,
   "metadata": {},
   "outputs": [],
   "source": []
  },
  {
   "cell_type": "markdown",
   "metadata": {},
   "source": [
    "6. **Porcentaje de población urbana promedio por continente**:\n",
    "    ¿Cuál es el porcentaje de población urbana promedio por continente?"
   ]
  },
  {
   "cell_type": "code",
   "execution_count": null,
   "metadata": {},
   "outputs": [],
   "source": []
  },
  {
   "cell_type": "markdown",
   "metadata": {},
   "source": [
    "7. **Diferencia entre el PIB promedio y el gasto en salud de bolsillo promedio por idioma oficial**:\n",
    "    ¿Cuál es la diferencia entre el PIB promedio y el gasto en salud de bolsillo promedio por idioma oficial? Para contestar esta pregunta debes seguir los siguientes pasos:\n",
    "    \n",
    "    - Agrupa el DataFrame por idioma oficial y calcula la media del Gasto de Bolsillo en salud (`out_of_pocket_health_expenditure`) y del PIB (`gdp`).\n",
    "    - Calcula la diferencia entre el PIB promedio y el gasto en salud de bolsillo promedio."
   ]
  },
  {
   "cell_type": "code",
   "execution_count": null,
   "metadata": {},
   "outputs": [],
   "source": []
  },
  {
   "cell_type": "markdown",
   "metadata": {},
   "source": [
    "8. **Tasa de maternidad promedio por tasa de impuestos total**:\n",
    "    ¿Cuál es la tasa de maternidad promedio por tasa de impuestos total? Para resolver el ejercicio deberás:\n",
    "    \n",
    "    - Primero, calcula la tasa de maternidad promedio para cada continente. Puedes usar la columna `maternal_mortality_ratio` que representa la tasa de mortalidad materna.\n",
    "    - Calcula la tasa de impuestos total promedio para cada continente. Puedes usar la columna `total_tax_rate` que representa la tasa de impuestos total en cada continente.\n",
    "    - Luego, divide la tasa de maternidad promedio por la tasa de impuestos total promedio para obtener la relación entre ambas tasas.\n",
    "    - Encuentra el país con la tasa de maternidad más alta por punto porcentual de tasa de impuestos total."
   ]
  },
  {
   "cell_type": "code",
   "execution_count": null,
   "metadata": {},
   "outputs": [],
   "source": []
  },
  {
   "cell_type": "markdown",
   "metadata": {},
   "source": [
    "## Ejercicios bonus `groupby`\n",
    "\n",
    "1. **Tasa de natalidad máxima por área forestal por continente**:\n",
    "    ¿Cuál es la tasa de natalidad máxima por área forestal por continente? Encuentra el país con la tasa de natalidad más alta por cada punto porcentual de área forestal."
   ]
  },
  {
   "cell_type": "code",
   "execution_count": null,
   "metadata": {},
   "outputs": [],
   "source": []
  },
  {
   "cell_type": "markdown",
   "metadata": {},
   "source": [
    "2. **Diferencia entre la tasa de impuestos total y la tasa de desempleo promedio por continente**:\n",
    "    ¿Cuál es la diferencia entre la tasa de impuestos total y la tasa de desempleo promedio por continente?   "
   ]
  },
  {
   "cell_type": "code",
   "execution_count": null,
   "metadata": {},
   "outputs": [],
   "source": []
  }
 ],
 "metadata": {
  "kernelspec": {
   "display_name": "base",
   "language": "python",
   "name": "python3"
  },
  "language_info": {
   "codemirror_mode": {
    "name": "ipython",
    "version": 3
   },
   "file_extension": ".py",
   "mimetype": "text/x-python",
   "name": "python",
   "nbconvert_exporter": "python",
   "pygments_lexer": "ipython3",
<<<<<<< HEAD
   "version": "3.9.7"
=======
   "version": "3.9.12"
>>>>>>> dba243082b2c7c4da7ec0703b937d72406473637
  }
 },
 "nbformat": 4,
 "nbformat_minor": 2
}
