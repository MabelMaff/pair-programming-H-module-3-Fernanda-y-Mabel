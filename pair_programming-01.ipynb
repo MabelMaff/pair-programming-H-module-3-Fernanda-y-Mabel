{
 "cells": [
  {
   "cell_type": "code",
   "execution_count": 2,
   "metadata": {},
   "outputs": [],
   "source": [
    "import numpy as np"
   ]
  },
  {
   "cell_type": "markdown",
   "metadata": {},
   "source": [
    "Creación y Indexación:\n",
    "Crea un array 1D con 50 valores aleatorio del 10 al 99. Accede a los elementos en las posiciones múltiplos de 5.\n",
    "\n",
    "Crea un array 1D con 30 valores del 1 al 20 (ambos incluidos). Utiliza indexación para obtener los elementos en las posiciones impares.\n",
    "\n",
    "Crea un array 2D de forma (4, 6) con números aleatorios decimales (no deben estar comprendidos solo entre 0 y 1). Accede a la última fila de la matriz. Los decimales deben estar redondeados a 2 decimales.\n",
    "\n",
    "BONUS: Crea un array 3D de forma (2, 3, 5) y 50 elementos con números enteros entre 0 y 100 (ambos incluidos). Reemplaza los elementos en posiciones múltiplos de 3 por 0."
   ]
  },
  {
   "cell_type": "code",
   "execution_count": 3,
   "metadata": {},
   "outputs": [
    {
     "data": {
      "text/plain": [
       "array([87, 18, 10, 38, 57, 17, 30, 58, 52, 86])"
      ]
     },
     "execution_count": 3,
     "metadata": {},
     "output_type": "execute_result"
    }
   ],
   "source": [
    "array = np.random.randint(10, 100, 50)\n",
    "array_multiplo_5 = array[ : : 5]\n",
    "array_multiplo_5"
   ]
  },
  {
   "cell_type": "code",
   "execution_count": 4,
   "metadata": {},
   "outputs": [
    {
     "name": "stdout",
     "output_type": "stream",
     "text": [
      "[17  5 16 11  6 16  7  5  8 20 16  4  5 19  1  5  5 17 16 13 17 15  3  8\n",
      "  9 16 11  9  1  8]\n",
      "[17 16  6  7  8 16  5  1  5 16 17  3  9 11  1]\n"
     ]
    }
   ],
   "source": [
    "array1 = np.random.randint(1, 21 , size= 30)\n",
    "print(array1)\n",
    "array_impares = array1[: : 2]\n",
    "print(array_impares)"
   ]
  },
  {
   "cell_type": "code",
   "execution_count": 5,
   "metadata": {},
   "outputs": [
    {
     "data": {
      "text/plain": [
       "array([[2.19666276, 4.03485999, 4.99263912, 2.98082571, 0.53543476,\n",
       "        0.5337588 ],\n",
       "       [4.01691962, 4.07026459, 2.13955341, 2.07216473, 1.52979465,\n",
       "        3.72418354],\n",
       "       [4.79972712, 1.14966504, 2.27584273, 4.91651356, 2.5052438 ,\n",
       "        4.71490815],\n",
       "       [2.18051596, 1.31036613, 4.00132401, 0.03823094, 2.91337649,\n",
       "        4.82536009]])"
      ]
     },
     "execution_count": 5,
     "metadata": {},
     "output_type": "execute_result"
    }
   ],
   "source": [
    "'''Crea un array 2D de forma (4, 6) con números aleatorios decimales (no deben estar comprendidos solo entre 0 y 1).\n",
    "Accede a la última fila de la matriz. Los decimales deben estar redondeados a 2 decimales.'''\n",
    "\n",
    "array_bi = np.random.rand(4,6) *5\n",
    "array_bi\n",
    "\n"
   ]
  },
  {
   "cell_type": "code",
   "execution_count": 6,
   "metadata": {},
   "outputs": [
    {
     "data": {
      "text/plain": [
       "array([[2.2 , 4.03, 4.99, 2.98, 0.54, 0.53],\n",
       "       [4.02, 4.07, 2.14, 2.07, 1.53, 3.72],\n",
       "       [4.8 , 1.15, 2.28, 4.92, 2.51, 4.71],\n",
       "       [2.18, 1.31, 4.  , 0.04, 2.91, 4.83]])"
      ]
     },
     "execution_count": 6,
     "metadata": {},
     "output_type": "execute_result"
    }
   ],
   "source": [
    "array_bi_2d = np.round(array_bi, 2)\n",
    "array_bi_2d\n"
   ]
  },
  {
   "cell_type": "code",
   "execution_count": 7,
   "metadata": {},
   "outputs": [
    {
     "data": {
      "text/plain": [
       "array([2.18, 1.31, 4.  , 0.04, 2.91, 4.83])"
      ]
     },
     "execution_count": 7,
     "metadata": {},
     "output_type": "execute_result"
    }
   ],
   "source": [
    "ultima_fila = array_bi_2d[-1]\n",
    "ultima_fila"
   ]
  },
  {
   "cell_type": "code",
   "execution_count": 8,
   "metadata": {},
   "outputs": [
    {
     "name": "stdout",
     "output_type": "stream",
     "text": [
      "Array original:\n",
      "[[[ 9 52 76 27 38]\n",
      "  [21 18 74 55 62]\n",
      "  [11 68 75 69 36]]\n",
      "\n",
      " [[45 44 86 63 56]\n",
      "  [50 96 37 51 14]\n",
      "  [20 11 67 73 83]]]\n",
      "Array modificado:\n",
      "[[[ 0 52 76  0 38]\n",
      "  [21  0 74 55  0]\n",
      "  [11 68  0 69 36]]\n",
      "\n",
      " [[ 0 44 86  0 56]\n",
      "  [50  0 37 51  0]\n",
      "  [20 11  0 73 83]]]\n"
     ]
    }
   ],
   "source": [
    "#BONUS: Crea un array 3D de forma (2, 3, 5) y 50 elementos con números enteros entre 0 y 100 (ambos incluidos). \n",
    "# Reemplaza los elementos en posiciones múltiplos de 3 por 0.\n",
    "\n",
    "\n",
    "# Creo el array 3D\n",
    "array_3d = np.random.randint(0, 101, size=(2, 3, 5))\n",
    "print(\"Array original:\")\n",
    "print(array_3d)\n",
    "\n",
    "# Aplano el array para facilitar el reemplazo\n",
    "array_flat = array_3d.flatten()\n",
    "\n",
    "# Reemplazo elementos en posiciones múltiplos de 3 por 0\n",
    "array_flat[::3] = 0\n",
    "\n",
    "# le vuelvo a dar la forma original al array\n",
    "array_3d_modified = array_flat.reshape((2, 3, 5))\n",
    "\n",
    "print(\"Array modificado:\")\n",
    "print(array_3d_modified)\n",
    "\n"
   ]
  },
  {
   "cell_type": "markdown",
   "metadata": {},
   "source": [
    "Ejercicios con reshape:\n",
    "Crea un array 3D de forma (2, 3, 4) con valores aleatorios entre 1 y 100 (ambos inclusive). Utiliza reshape para convertirlo en un array 2D. Deberás pensar en la forma que es correcta para hacer este cambio.\n",
    "\n",
    "Crea un array 3D de forma (3, 4, 5) con valores enteros del 1 al 61 (sin incluir). Utiliza reshape para convertirlo en un array 2D."
   ]
  },
  {
   "cell_type": "code",
   "execution_count": null,
   "metadata": {},
   "outputs": [],
   "source": []
  },
  {
   "cell_type": "markdown",
   "metadata": {},
   "source": [
    "Ejercicios con transpose:\n",
    "Utiliza el array 3D del ejercicio 2 de reshape. Utiliza transpose para permutar los ejes y obtener un nuevo array con forma (5, 4, 3).\n",
    "\n",
    "Utiliza el array 3D del ejercicio 2 de reshape. Utiliza transpose para cambiar el orden de los ejes y obtener un nuevo array con forma (3, 5, 4)."
   ]
  },
  {
   "cell_type": "markdown",
   "metadata": {},
   "source": [
    "Preguntas teóricas:\n",
    "¿Qué diferencia existe entre el reshape y el transpose?\n",
    "\n",
    "¿Y entre el transpose y el swapaxes?"
   ]
  },
  {
   "cell_type": "markdown",
   "metadata": {},
   "source": [
    "Funciones Aritméticas y Estadísticas:\n",
    "Crea un array de tres 3D con elementos entre el 0 y 1 de forma (2, 3, 5) cuyos valores solo tengan 1 decimal.\n",
    "\n",
    "Crea un array vacío con la misma forma y dimensiones que el array creado anteriormente. Vamos a reemplazar los valores de la matriz vacía que nos acabamos de crear pero basándonos en los valores del primer array bajo las siguientes condiciones:\n",
    "\n",
    "Si el valor del array es igual que la media, se reemplaza por \"A\".\n",
    "\n",
    "Si el valor del array es mayor que la media, se reemplaza por \"B\".\n",
    "\n",
    "Si el valor del array es menor que la media, se reemplaza por \"C\".\n",
    "\n",
    "Si el valor es igual que el máximo, se reemplaza por \"D\".\n",
    "\n",
    "Si el valor es igual que el mínimo, se reemplaza por \"E\"."
   ]
  },
  {
   "cell_type": "code",
   "execution_count": 9,
   "metadata": {},
   "outputs": [
    {
     "ename": "SyntaxError",
     "evalue": "unmatched ')' (1174397853.py, line 8)",
     "output_type": "error",
     "traceback": [
      "\u001b[0;36m  File \u001b[0;32m\"/tmp/ipykernel_2098/1174397853.py\"\u001b[0;36m, line \u001b[0;32m8\u001b[0m\n\u001b[0;31m    [0.5, 0.3, 0.5, 0.8, 0.1]]])\u001b[0m\n\u001b[0m                               ^\u001b[0m\n\u001b[0;31mSyntaxError\u001b[0m\u001b[0;31m:\u001b[0m unmatched ')'\n"
     ]
    }
   ],
   "source": [
    "# a modo de ejemplo. Si tenemos el siguiente array\n",
    "[[[0.4, 0.7, 0.2, 0.9, 0.2],\n",
    "    [0.1, 0.9, 0.6, 0.1, 0.2],\n",
    "    [1. , 0.2, 0.1, 0.8, 0.3]],\n",
    "\n",
    "[[0. , 0.3, 0.4, 0.5, 0.1],\n",
    "    [0.5, 0.7, 0.9, 0. , 0.8],\n",
    "    [0.5, 0.3, 0.5, 0.8, 0.1]]])\n",
    "\n",
    "# sabiendo que la media es 0.4 y el máximo es 1.0 y el mínimo es 0.0\n",
    "\n",
    "# nuestro array vacío debería quedar como este: \n",
    "[[[\"A\", \"B\", \"C\", \"B\", \"C\"],\n",
    "    [\"C\", \"B\", \"B\", \"C\", \"C\"],\n",
    "    [\"D\" , \"C\", \"C\", \"B\", \"C\"]],\n",
    "\n",
    "[[\"E\" , \"C\", \"A\", \"B\", \"C\"],\n",
    "    [\"B\", \"B\",\"B\", \"E\" , \"B\"],\n",
    "    [\"B\", \"C\", \"B\", \"B\", \"C\"]]])"
   ]
  }
 ],
 "metadata": {
  "kernelspec": {
   "display_name": "base",
   "language": "python",
   "name": "python3"
  },
  "language_info": {
   "codemirror_mode": {
    "name": "ipython",
    "version": 3
   },
   "file_extension": ".py",
   "mimetype": "text/x-python",
   "name": "python",
   "nbconvert_exporter": "python",
   "pygments_lexer": "ipython3",
   "version": "3.9.7"
  }
 },
 "nbformat": 4,
 "nbformat_minor": 2
}
